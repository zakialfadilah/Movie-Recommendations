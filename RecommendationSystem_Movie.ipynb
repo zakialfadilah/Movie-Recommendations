{
  "nbformat": 4,
  "nbformat_minor": 0,
  "metadata": {
    "colab": {
      "provenance": [],
      "collapsed_sections": [
        "BoVC9owGPNOt"
      ]
    },
    "kernelspec": {
      "name": "python3",
      "display_name": "Python 3"
    },
    "language_info": {
      "name": "python"
    }
  },
  "cells": [
    {
      "cell_type": "markdown",
      "source": [
        "## Import Library"
      ],
      "metadata": {
        "id": "ksboPUGmznmB"
      }
    },
    {
      "cell_type": "code",
      "source": [
        "# Import library\n",
        "\n",
        "!pip install keras\n",
        "from google.colab import drive\n",
        "import zipfile\n",
        "import os\n",
        "import seaborn as sns\n",
        "import pandas as pd\n",
        "import numpy as np\n",
        "from sklearn.model_selection import train_test_split\n",
        "from tensorflow import keras\n",
        "from keras.layers import Input, Embedding, Flatten, Dot, Dense, Concatenate\n",
        "import tensorflow as tf\n",
        "from keras.layers import Input, Embedding, Flatten, Concatenate, Dense, Dropout\n",
        "from collections import Counter\n",
        "from sklearn.metrics.pairwise import linear_kernel\n",
        "from tensorflow.keras.optimizers import Adam\n",
        "from tensorflow.keras.models import Model\n",
        "from tensorflow.keras import layers\n",
        "from sklearn.metrics import mean_squared_error\n",
        "from math import sqrt\n",
        "import matplotlib.pyplot as plt\n",
        "from sklearn.metrics import mean_absolute_error, r2_score"
      ],
      "metadata": {
        "colab": {
          "base_uri": "https://localhost:8080/"
        },
        "id": "PyMn1hz_zqb1",
        "outputId": "58dd62ee-e5c5-4a25-90aa-1b188a4f24ad"
      },
      "execution_count": 1,
      "outputs": [
        {
          "output_type": "stream",
          "name": "stdout",
          "text": [
            "Requirement already satisfied: keras in /usr/local/lib/python3.11/dist-packages (3.8.0)\n",
            "Requirement already satisfied: absl-py in /usr/local/lib/python3.11/dist-packages (from keras) (1.4.0)\n",
            "Requirement already satisfied: numpy in /usr/local/lib/python3.11/dist-packages (from keras) (2.0.2)\n",
            "Requirement already satisfied: rich in /usr/local/lib/python3.11/dist-packages (from keras) (13.9.4)\n",
            "Requirement already satisfied: namex in /usr/local/lib/python3.11/dist-packages (from keras) (0.0.9)\n",
            "Requirement already satisfied: h5py in /usr/local/lib/python3.11/dist-packages (from keras) (3.13.0)\n",
            "Requirement already satisfied: optree in /usr/local/lib/python3.11/dist-packages (from keras) (0.15.0)\n",
            "Requirement already satisfied: ml-dtypes in /usr/local/lib/python3.11/dist-packages (from keras) (0.4.1)\n",
            "Requirement already satisfied: packaging in /usr/local/lib/python3.11/dist-packages (from keras) (24.2)\n",
            "Requirement already satisfied: typing-extensions>=4.5.0 in /usr/local/lib/python3.11/dist-packages (from optree->keras) (4.13.2)\n",
            "Requirement already satisfied: markdown-it-py>=2.2.0 in /usr/local/lib/python3.11/dist-packages (from rich->keras) (3.0.0)\n",
            "Requirement already satisfied: pygments<3.0.0,>=2.13.0 in /usr/local/lib/python3.11/dist-packages (from rich->keras) (2.19.1)\n",
            "Requirement already satisfied: mdurl~=0.1 in /usr/local/lib/python3.11/dist-packages (from markdown-it-py>=2.2.0->rich->keras) (0.1.2)\n"
          ]
        }
      ]
    },
    {
      "cell_type": "markdown",
      "source": [
        "Tahap pertama import seluruh library yang dibutuhkan."
      ],
      "metadata": {
        "id": "liv55R2pVfu7"
      }
    },
    {
      "cell_type": "markdown",
      "source": [
        "## Load data"
      ],
      "metadata": {
        "id": "nkToQ_SczsjS"
      }
    },
    {
      "cell_type": "code",
      "source": [
        "# 1. Mount Google Drive\n",
        "drive.mount('/content/drive')\n",
        "\n",
        "# 2. Path ke file ZIP di Google Drive\n",
        "zip_path = '/content/drive/MyDrive/dataset_movie.zip'\n",
        "\n",
        "# 3. Lokasi untuk mengekstrak isi ZIP\n",
        "extract_path = '/content/dataset_movie'\n",
        "\n",
        "# 4. Ekstraksi file ZIP\n",
        "with zipfile.ZipFile(zip_path, 'r') as zip_ref:\n",
        "    zip_ref.extractall(extract_path)\n",
        "\n",
        "# 5. Cek hasil ekstraksi\n",
        "print(\"Isi folder setelah ekstraksi:\")\n",
        "print(os.listdir(extract_path))\n"
      ],
      "metadata": {
        "colab": {
          "base_uri": "https://localhost:8080/"
        },
        "id": "4Zh3TrwpznDK",
        "outputId": "9844e48b-fbbd-4170-edea-67d3472392c4"
      },
      "execution_count": 2,
      "outputs": [
        {
          "output_type": "stream",
          "name": "stdout",
          "text": [
            "Mounted at /content/drive\n",
            "Isi folder setelah ekstraksi:\n",
            "['dataset_movie', '__MACOSX']\n"
          ]
        }
      ]
    },
    {
      "cell_type": "markdown",
      "source": [
        "Tahap ini load dataset yang diperlukan."
      ],
      "metadata": {
        "id": "33r3VV_9V2J5"
      }
    },
    {
      "cell_type": "code",
      "source": [
        "# Load dataset ke dataframe df_movie & df_rating\n",
        "df_movie = pd.read_csv('dataset_movie/dataset_movie/movies.csv')\n",
        "df_rating = pd.read_csv('dataset_movie/dataset_movie/ratings.csv')"
      ],
      "metadata": {
        "id": "CqohmUAA0XWp"
      },
      "execution_count": 3,
      "outputs": []
    },
    {
      "cell_type": "markdown",
      "source": [
        "Load data ke dataframe ke df_movie dan df_rating."
      ],
      "metadata": {
        "id": "6wSuzOYcV8HB"
      }
    },
    {
      "cell_type": "markdown",
      "source": [
        "## Data Understanding & EDA"
      ],
      "metadata": {
        "id": "Tm2eU5Sd2PtE"
      }
    },
    {
      "cell_type": "code",
      "source": [
        "# Cek sample data df_movie\n",
        "df_movie"
      ],
      "metadata": {
        "colab": {
          "base_uri": "https://localhost:8080/",
          "height": 419
        },
        "id": "dTbe6sCt20Fc",
        "outputId": "da03ed50-cc0f-4428-dac5-2fbf7e7a6d89"
      },
      "execution_count": 4,
      "outputs": [
        {
          "output_type": "execute_result",
          "data": {
            "text/plain": [
              "       movieId                               title  \\\n",
              "0            1                    Toy Story (1995)   \n",
              "1            2                      Jumanji (1995)   \n",
              "2            3             Grumpier Old Men (1995)   \n",
              "3            4            Waiting to Exhale (1995)   \n",
              "4            5  Father of the Bride Part II (1995)   \n",
              "...        ...                                 ...   \n",
              "62418   209157                           We (2018)   \n",
              "62419   209159           Window of the Soul (2001)   \n",
              "62420   209163                    Bad Poems (2018)   \n",
              "62421   209169                 A Girl Thing (2001)   \n",
              "62422   209171      Women of Devil's Island (1962)   \n",
              "\n",
              "                                            genres  \n",
              "0      Adventure|Animation|Children|Comedy|Fantasy  \n",
              "1                       Adventure|Children|Fantasy  \n",
              "2                                   Comedy|Romance  \n",
              "3                             Comedy|Drama|Romance  \n",
              "4                                           Comedy  \n",
              "...                                            ...  \n",
              "62418                                        Drama  \n",
              "62419                                  Documentary  \n",
              "62420                                 Comedy|Drama  \n",
              "62421                           (no genres listed)  \n",
              "62422                       Action|Adventure|Drama  \n",
              "\n",
              "[62423 rows x 3 columns]"
            ],
            "text/html": [
              "\n",
              "  <div id=\"df-6dc37f41-9192-4e33-b54d-835b713c7404\" class=\"colab-df-container\">\n",
              "    <div>\n",
              "<style scoped>\n",
              "    .dataframe tbody tr th:only-of-type {\n",
              "        vertical-align: middle;\n",
              "    }\n",
              "\n",
              "    .dataframe tbody tr th {\n",
              "        vertical-align: top;\n",
              "    }\n",
              "\n",
              "    .dataframe thead th {\n",
              "        text-align: right;\n",
              "    }\n",
              "</style>\n",
              "<table border=\"1\" class=\"dataframe\">\n",
              "  <thead>\n",
              "    <tr style=\"text-align: right;\">\n",
              "      <th></th>\n",
              "      <th>movieId</th>\n",
              "      <th>title</th>\n",
              "      <th>genres</th>\n",
              "    </tr>\n",
              "  </thead>\n",
              "  <tbody>\n",
              "    <tr>\n",
              "      <th>0</th>\n",
              "      <td>1</td>\n",
              "      <td>Toy Story (1995)</td>\n",
              "      <td>Adventure|Animation|Children|Comedy|Fantasy</td>\n",
              "    </tr>\n",
              "    <tr>\n",
              "      <th>1</th>\n",
              "      <td>2</td>\n",
              "      <td>Jumanji (1995)</td>\n",
              "      <td>Adventure|Children|Fantasy</td>\n",
              "    </tr>\n",
              "    <tr>\n",
              "      <th>2</th>\n",
              "      <td>3</td>\n",
              "      <td>Grumpier Old Men (1995)</td>\n",
              "      <td>Comedy|Romance</td>\n",
              "    </tr>\n",
              "    <tr>\n",
              "      <th>3</th>\n",
              "      <td>4</td>\n",
              "      <td>Waiting to Exhale (1995)</td>\n",
              "      <td>Comedy|Drama|Romance</td>\n",
              "    </tr>\n",
              "    <tr>\n",
              "      <th>4</th>\n",
              "      <td>5</td>\n",
              "      <td>Father of the Bride Part II (1995)</td>\n",
              "      <td>Comedy</td>\n",
              "    </tr>\n",
              "    <tr>\n",
              "      <th>...</th>\n",
              "      <td>...</td>\n",
              "      <td>...</td>\n",
              "      <td>...</td>\n",
              "    </tr>\n",
              "    <tr>\n",
              "      <th>62418</th>\n",
              "      <td>209157</td>\n",
              "      <td>We (2018)</td>\n",
              "      <td>Drama</td>\n",
              "    </tr>\n",
              "    <tr>\n",
              "      <th>62419</th>\n",
              "      <td>209159</td>\n",
              "      <td>Window of the Soul (2001)</td>\n",
              "      <td>Documentary</td>\n",
              "    </tr>\n",
              "    <tr>\n",
              "      <th>62420</th>\n",
              "      <td>209163</td>\n",
              "      <td>Bad Poems (2018)</td>\n",
              "      <td>Comedy|Drama</td>\n",
              "    </tr>\n",
              "    <tr>\n",
              "      <th>62421</th>\n",
              "      <td>209169</td>\n",
              "      <td>A Girl Thing (2001)</td>\n",
              "      <td>(no genres listed)</td>\n",
              "    </tr>\n",
              "    <tr>\n",
              "      <th>62422</th>\n",
              "      <td>209171</td>\n",
              "      <td>Women of Devil's Island (1962)</td>\n",
              "      <td>Action|Adventure|Drama</td>\n",
              "    </tr>\n",
              "  </tbody>\n",
              "</table>\n",
              "<p>62423 rows × 3 columns</p>\n",
              "</div>\n",
              "    <div class=\"colab-df-buttons\">\n",
              "\n",
              "  <div class=\"colab-df-container\">\n",
              "    <button class=\"colab-df-convert\" onclick=\"convertToInteractive('df-6dc37f41-9192-4e33-b54d-835b713c7404')\"\n",
              "            title=\"Convert this dataframe to an interactive table.\"\n",
              "            style=\"display:none;\">\n",
              "\n",
              "  <svg xmlns=\"http://www.w3.org/2000/svg\" height=\"24px\" viewBox=\"0 -960 960 960\">\n",
              "    <path d=\"M120-120v-720h720v720H120Zm60-500h600v-160H180v160Zm220 220h160v-160H400v160Zm0 220h160v-160H400v160ZM180-400h160v-160H180v160Zm440 0h160v-160H620v160ZM180-180h160v-160H180v160Zm440 0h160v-160H620v160Z\"/>\n",
              "  </svg>\n",
              "    </button>\n",
              "\n",
              "  <style>\n",
              "    .colab-df-container {\n",
              "      display:flex;\n",
              "      gap: 12px;\n",
              "    }\n",
              "\n",
              "    .colab-df-convert {\n",
              "      background-color: #E8F0FE;\n",
              "      border: none;\n",
              "      border-radius: 50%;\n",
              "      cursor: pointer;\n",
              "      display: none;\n",
              "      fill: #1967D2;\n",
              "      height: 32px;\n",
              "      padding: 0 0 0 0;\n",
              "      width: 32px;\n",
              "    }\n",
              "\n",
              "    .colab-df-convert:hover {\n",
              "      background-color: #E2EBFA;\n",
              "      box-shadow: 0px 1px 2px rgba(60, 64, 67, 0.3), 0px 1px 3px 1px rgba(60, 64, 67, 0.15);\n",
              "      fill: #174EA6;\n",
              "    }\n",
              "\n",
              "    .colab-df-buttons div {\n",
              "      margin-bottom: 4px;\n",
              "    }\n",
              "\n",
              "    [theme=dark] .colab-df-convert {\n",
              "      background-color: #3B4455;\n",
              "      fill: #D2E3FC;\n",
              "    }\n",
              "\n",
              "    [theme=dark] .colab-df-convert:hover {\n",
              "      background-color: #434B5C;\n",
              "      box-shadow: 0px 1px 3px 1px rgba(0, 0, 0, 0.15);\n",
              "      filter: drop-shadow(0px 1px 2px rgba(0, 0, 0, 0.3));\n",
              "      fill: #FFFFFF;\n",
              "    }\n",
              "  </style>\n",
              "\n",
              "    <script>\n",
              "      const buttonEl =\n",
              "        document.querySelector('#df-6dc37f41-9192-4e33-b54d-835b713c7404 button.colab-df-convert');\n",
              "      buttonEl.style.display =\n",
              "        google.colab.kernel.accessAllowed ? 'block' : 'none';\n",
              "\n",
              "      async function convertToInteractive(key) {\n",
              "        const element = document.querySelector('#df-6dc37f41-9192-4e33-b54d-835b713c7404');\n",
              "        const dataTable =\n",
              "          await google.colab.kernel.invokeFunction('convertToInteractive',\n",
              "                                                    [key], {});\n",
              "        if (!dataTable) return;\n",
              "\n",
              "        const docLinkHtml = 'Like what you see? Visit the ' +\n",
              "          '<a target=\"_blank\" href=https://colab.research.google.com/notebooks/data_table.ipynb>data table notebook</a>'\n",
              "          + ' to learn more about interactive tables.';\n",
              "        element.innerHTML = '';\n",
              "        dataTable['output_type'] = 'display_data';\n",
              "        await google.colab.output.renderOutput(dataTable, element);\n",
              "        const docLink = document.createElement('div');\n",
              "        docLink.innerHTML = docLinkHtml;\n",
              "        element.appendChild(docLink);\n",
              "      }\n",
              "    </script>\n",
              "  </div>\n",
              "\n",
              "\n",
              "    <div id=\"df-34e5e706-76ec-4201-8199-169b7c2ffb0c\">\n",
              "      <button class=\"colab-df-quickchart\" onclick=\"quickchart('df-34e5e706-76ec-4201-8199-169b7c2ffb0c')\"\n",
              "                title=\"Suggest charts\"\n",
              "                style=\"display:none;\">\n",
              "\n",
              "<svg xmlns=\"http://www.w3.org/2000/svg\" height=\"24px\"viewBox=\"0 0 24 24\"\n",
              "     width=\"24px\">\n",
              "    <g>\n",
              "        <path d=\"M19 3H5c-1.1 0-2 .9-2 2v14c0 1.1.9 2 2 2h14c1.1 0 2-.9 2-2V5c0-1.1-.9-2-2-2zM9 17H7v-7h2v7zm4 0h-2V7h2v10zm4 0h-2v-4h2v4z\"/>\n",
              "    </g>\n",
              "</svg>\n",
              "      </button>\n",
              "\n",
              "<style>\n",
              "  .colab-df-quickchart {\n",
              "      --bg-color: #E8F0FE;\n",
              "      --fill-color: #1967D2;\n",
              "      --hover-bg-color: #E2EBFA;\n",
              "      --hover-fill-color: #174EA6;\n",
              "      --disabled-fill-color: #AAA;\n",
              "      --disabled-bg-color: #DDD;\n",
              "  }\n",
              "\n",
              "  [theme=dark] .colab-df-quickchart {\n",
              "      --bg-color: #3B4455;\n",
              "      --fill-color: #D2E3FC;\n",
              "      --hover-bg-color: #434B5C;\n",
              "      --hover-fill-color: #FFFFFF;\n",
              "      --disabled-bg-color: #3B4455;\n",
              "      --disabled-fill-color: #666;\n",
              "  }\n",
              "\n",
              "  .colab-df-quickchart {\n",
              "    background-color: var(--bg-color);\n",
              "    border: none;\n",
              "    border-radius: 50%;\n",
              "    cursor: pointer;\n",
              "    display: none;\n",
              "    fill: var(--fill-color);\n",
              "    height: 32px;\n",
              "    padding: 0;\n",
              "    width: 32px;\n",
              "  }\n",
              "\n",
              "  .colab-df-quickchart:hover {\n",
              "    background-color: var(--hover-bg-color);\n",
              "    box-shadow: 0 1px 2px rgba(60, 64, 67, 0.3), 0 1px 3px 1px rgba(60, 64, 67, 0.15);\n",
              "    fill: var(--button-hover-fill-color);\n",
              "  }\n",
              "\n",
              "  .colab-df-quickchart-complete:disabled,\n",
              "  .colab-df-quickchart-complete:disabled:hover {\n",
              "    background-color: var(--disabled-bg-color);\n",
              "    fill: var(--disabled-fill-color);\n",
              "    box-shadow: none;\n",
              "  }\n",
              "\n",
              "  .colab-df-spinner {\n",
              "    border: 2px solid var(--fill-color);\n",
              "    border-color: transparent;\n",
              "    border-bottom-color: var(--fill-color);\n",
              "    animation:\n",
              "      spin 1s steps(1) infinite;\n",
              "  }\n",
              "\n",
              "  @keyframes spin {\n",
              "    0% {\n",
              "      border-color: transparent;\n",
              "      border-bottom-color: var(--fill-color);\n",
              "      border-left-color: var(--fill-color);\n",
              "    }\n",
              "    20% {\n",
              "      border-color: transparent;\n",
              "      border-left-color: var(--fill-color);\n",
              "      border-top-color: var(--fill-color);\n",
              "    }\n",
              "    30% {\n",
              "      border-color: transparent;\n",
              "      border-left-color: var(--fill-color);\n",
              "      border-top-color: var(--fill-color);\n",
              "      border-right-color: var(--fill-color);\n",
              "    }\n",
              "    40% {\n",
              "      border-color: transparent;\n",
              "      border-right-color: var(--fill-color);\n",
              "      border-top-color: var(--fill-color);\n",
              "    }\n",
              "    60% {\n",
              "      border-color: transparent;\n",
              "      border-right-color: var(--fill-color);\n",
              "    }\n",
              "    80% {\n",
              "      border-color: transparent;\n",
              "      border-right-color: var(--fill-color);\n",
              "      border-bottom-color: var(--fill-color);\n",
              "    }\n",
              "    90% {\n",
              "      border-color: transparent;\n",
              "      border-bottom-color: var(--fill-color);\n",
              "    }\n",
              "  }\n",
              "</style>\n",
              "\n",
              "      <script>\n",
              "        async function quickchart(key) {\n",
              "          const quickchartButtonEl =\n",
              "            document.querySelector('#' + key + ' button');\n",
              "          quickchartButtonEl.disabled = true;  // To prevent multiple clicks.\n",
              "          quickchartButtonEl.classList.add('colab-df-spinner');\n",
              "          try {\n",
              "            const charts = await google.colab.kernel.invokeFunction(\n",
              "                'suggestCharts', [key], {});\n",
              "          } catch (error) {\n",
              "            console.error('Error during call to suggestCharts:', error);\n",
              "          }\n",
              "          quickchartButtonEl.classList.remove('colab-df-spinner');\n",
              "          quickchartButtonEl.classList.add('colab-df-quickchart-complete');\n",
              "        }\n",
              "        (() => {\n",
              "          let quickchartButtonEl =\n",
              "            document.querySelector('#df-34e5e706-76ec-4201-8199-169b7c2ffb0c button');\n",
              "          quickchartButtonEl.style.display =\n",
              "            google.colab.kernel.accessAllowed ? 'block' : 'none';\n",
              "        })();\n",
              "      </script>\n",
              "    </div>\n",
              "\n",
              "  <div id=\"id_0b9446d7-24f5-496d-9262-5dbbb760e2c4\">\n",
              "    <style>\n",
              "      .colab-df-generate {\n",
              "        background-color: #E8F0FE;\n",
              "        border: none;\n",
              "        border-radius: 50%;\n",
              "        cursor: pointer;\n",
              "        display: none;\n",
              "        fill: #1967D2;\n",
              "        height: 32px;\n",
              "        padding: 0 0 0 0;\n",
              "        width: 32px;\n",
              "      }\n",
              "\n",
              "      .colab-df-generate:hover {\n",
              "        background-color: #E2EBFA;\n",
              "        box-shadow: 0px 1px 2px rgba(60, 64, 67, 0.3), 0px 1px 3px 1px rgba(60, 64, 67, 0.15);\n",
              "        fill: #174EA6;\n",
              "      }\n",
              "\n",
              "      [theme=dark] .colab-df-generate {\n",
              "        background-color: #3B4455;\n",
              "        fill: #D2E3FC;\n",
              "      }\n",
              "\n",
              "      [theme=dark] .colab-df-generate:hover {\n",
              "        background-color: #434B5C;\n",
              "        box-shadow: 0px 1px 3px 1px rgba(0, 0, 0, 0.15);\n",
              "        filter: drop-shadow(0px 1px 2px rgba(0, 0, 0, 0.3));\n",
              "        fill: #FFFFFF;\n",
              "      }\n",
              "    </style>\n",
              "    <button class=\"colab-df-generate\" onclick=\"generateWithVariable('df_movie')\"\n",
              "            title=\"Generate code using this dataframe.\"\n",
              "            style=\"display:none;\">\n",
              "\n",
              "  <svg xmlns=\"http://www.w3.org/2000/svg\" height=\"24px\"viewBox=\"0 0 24 24\"\n",
              "       width=\"24px\">\n",
              "    <path d=\"M7,19H8.4L18.45,9,17,7.55,7,17.6ZM5,21V16.75L18.45,3.32a2,2,0,0,1,2.83,0l1.4,1.43a1.91,1.91,0,0,1,.58,1.4,1.91,1.91,0,0,1-.58,1.4L9.25,21ZM18.45,9,17,7.55Zm-12,3A5.31,5.31,0,0,0,4.9,8.1,5.31,5.31,0,0,0,1,6.5,5.31,5.31,0,0,0,4.9,4.9,5.31,5.31,0,0,0,6.5,1,5.31,5.31,0,0,0,8.1,4.9,5.31,5.31,0,0,0,12,6.5,5.46,5.46,0,0,0,6.5,12Z\"/>\n",
              "  </svg>\n",
              "    </button>\n",
              "    <script>\n",
              "      (() => {\n",
              "      const buttonEl =\n",
              "        document.querySelector('#id_0b9446d7-24f5-496d-9262-5dbbb760e2c4 button.colab-df-generate');\n",
              "      buttonEl.style.display =\n",
              "        google.colab.kernel.accessAllowed ? 'block' : 'none';\n",
              "\n",
              "      buttonEl.onclick = () => {\n",
              "        google.colab.notebook.generateWithVariable('df_movie');\n",
              "      }\n",
              "      })();\n",
              "    </script>\n",
              "  </div>\n",
              "\n",
              "    </div>\n",
              "  </div>\n"
            ],
            "application/vnd.google.colaboratory.intrinsic+json": {
              "type": "dataframe",
              "variable_name": "df_movie",
              "summary": "{\n  \"name\": \"df_movie\",\n  \"rows\": 62423,\n  \"fields\": [\n    {\n      \"column\": \"movieId\",\n      \"properties\": {\n        \"dtype\": \"number\",\n        \"std\": 63264,\n        \"min\": 1,\n        \"max\": 209171,\n        \"num_unique_values\": 62423,\n        \"samples\": [\n          4990,\n          116698,\n          125517\n        ],\n        \"semantic_type\": \"\",\n        \"description\": \"\"\n      }\n    },\n    {\n      \"column\": \"title\",\n      \"properties\": {\n        \"dtype\": \"string\",\n        \"num_unique_values\": 62325,\n        \"samples\": [\n          \"So Dear to My Heart (1949)\",\n          \"Give Me Liberty (2019)\",\n          \"Vice (2015)\"\n        ],\n        \"semantic_type\": \"\",\n        \"description\": \"\"\n      }\n    },\n    {\n      \"column\": \"genres\",\n      \"properties\": {\n        \"dtype\": \"category\",\n        \"num_unique_values\": 1639,\n        \"samples\": [\n          \"Action|Adventure|Crime|Western\",\n          \"Action|Comedy|Drama|Romance|Thriller\",\n          \"Animation|Documentary|Drama|Fantasy\"\n        ],\n        \"semantic_type\": \"\",\n        \"description\": \"\"\n      }\n    }\n  ]\n}"
            }
          },
          "metadata": {},
          "execution_count": 4
        }
      ]
    },
    {
      "cell_type": "markdown",
      "source": [
        "Menampilkan sample data dari df_movie. Didapatkan di data df_movie memiliki kolom movieId, title dan genres."
      ],
      "metadata": {
        "id": "e_zfZWsyWAgi"
      }
    },
    {
      "cell_type": "code",
      "source": [
        "# Cek describe data df_movie\n",
        "\n",
        "df_movie.describe()\n"
      ],
      "metadata": {
        "colab": {
          "base_uri": "https://localhost:8080/",
          "height": 297
        },
        "id": "WQ3Bm5K09DNs",
        "outputId": "a9b047c4-89f4-44d1-a74c-fee1a61432a0"
      },
      "execution_count": 5,
      "outputs": [
        {
          "output_type": "execute_result",
          "data": {
            "text/plain": [
              "             movieId\n",
              "count   62423.000000\n",
              "mean   122220.387646\n",
              "std     63264.744844\n",
              "min         1.000000\n",
              "25%     82146.500000\n",
              "50%    138022.000000\n",
              "75%    173222.000000\n",
              "max    209171.000000"
            ],
            "text/html": [
              "\n",
              "  <div id=\"df-46d5816a-e0eb-41fb-acb1-ed299776214e\" class=\"colab-df-container\">\n",
              "    <div>\n",
              "<style scoped>\n",
              "    .dataframe tbody tr th:only-of-type {\n",
              "        vertical-align: middle;\n",
              "    }\n",
              "\n",
              "    .dataframe tbody tr th {\n",
              "        vertical-align: top;\n",
              "    }\n",
              "\n",
              "    .dataframe thead th {\n",
              "        text-align: right;\n",
              "    }\n",
              "</style>\n",
              "<table border=\"1\" class=\"dataframe\">\n",
              "  <thead>\n",
              "    <tr style=\"text-align: right;\">\n",
              "      <th></th>\n",
              "      <th>movieId</th>\n",
              "    </tr>\n",
              "  </thead>\n",
              "  <tbody>\n",
              "    <tr>\n",
              "      <th>count</th>\n",
              "      <td>62423.000000</td>\n",
              "    </tr>\n",
              "    <tr>\n",
              "      <th>mean</th>\n",
              "      <td>122220.387646</td>\n",
              "    </tr>\n",
              "    <tr>\n",
              "      <th>std</th>\n",
              "      <td>63264.744844</td>\n",
              "    </tr>\n",
              "    <tr>\n",
              "      <th>min</th>\n",
              "      <td>1.000000</td>\n",
              "    </tr>\n",
              "    <tr>\n",
              "      <th>25%</th>\n",
              "      <td>82146.500000</td>\n",
              "    </tr>\n",
              "    <tr>\n",
              "      <th>50%</th>\n",
              "      <td>138022.000000</td>\n",
              "    </tr>\n",
              "    <tr>\n",
              "      <th>75%</th>\n",
              "      <td>173222.000000</td>\n",
              "    </tr>\n",
              "    <tr>\n",
              "      <th>max</th>\n",
              "      <td>209171.000000</td>\n",
              "    </tr>\n",
              "  </tbody>\n",
              "</table>\n",
              "</div>\n",
              "    <div class=\"colab-df-buttons\">\n",
              "\n",
              "  <div class=\"colab-df-container\">\n",
              "    <button class=\"colab-df-convert\" onclick=\"convertToInteractive('df-46d5816a-e0eb-41fb-acb1-ed299776214e')\"\n",
              "            title=\"Convert this dataframe to an interactive table.\"\n",
              "            style=\"display:none;\">\n",
              "\n",
              "  <svg xmlns=\"http://www.w3.org/2000/svg\" height=\"24px\" viewBox=\"0 -960 960 960\">\n",
              "    <path d=\"M120-120v-720h720v720H120Zm60-500h600v-160H180v160Zm220 220h160v-160H400v160Zm0 220h160v-160H400v160ZM180-400h160v-160H180v160Zm440 0h160v-160H620v160ZM180-180h160v-160H180v160Zm440 0h160v-160H620v160Z\"/>\n",
              "  </svg>\n",
              "    </button>\n",
              "\n",
              "  <style>\n",
              "    .colab-df-container {\n",
              "      display:flex;\n",
              "      gap: 12px;\n",
              "    }\n",
              "\n",
              "    .colab-df-convert {\n",
              "      background-color: #E8F0FE;\n",
              "      border: none;\n",
              "      border-radius: 50%;\n",
              "      cursor: pointer;\n",
              "      display: none;\n",
              "      fill: #1967D2;\n",
              "      height: 32px;\n",
              "      padding: 0 0 0 0;\n",
              "      width: 32px;\n",
              "    }\n",
              "\n",
              "    .colab-df-convert:hover {\n",
              "      background-color: #E2EBFA;\n",
              "      box-shadow: 0px 1px 2px rgba(60, 64, 67, 0.3), 0px 1px 3px 1px rgba(60, 64, 67, 0.15);\n",
              "      fill: #174EA6;\n",
              "    }\n",
              "\n",
              "    .colab-df-buttons div {\n",
              "      margin-bottom: 4px;\n",
              "    }\n",
              "\n",
              "    [theme=dark] .colab-df-convert {\n",
              "      background-color: #3B4455;\n",
              "      fill: #D2E3FC;\n",
              "    }\n",
              "\n",
              "    [theme=dark] .colab-df-convert:hover {\n",
              "      background-color: #434B5C;\n",
              "      box-shadow: 0px 1px 3px 1px rgba(0, 0, 0, 0.15);\n",
              "      filter: drop-shadow(0px 1px 2px rgba(0, 0, 0, 0.3));\n",
              "      fill: #FFFFFF;\n",
              "    }\n",
              "  </style>\n",
              "\n",
              "    <script>\n",
              "      const buttonEl =\n",
              "        document.querySelector('#df-46d5816a-e0eb-41fb-acb1-ed299776214e button.colab-df-convert');\n",
              "      buttonEl.style.display =\n",
              "        google.colab.kernel.accessAllowed ? 'block' : 'none';\n",
              "\n",
              "      async function convertToInteractive(key) {\n",
              "        const element = document.querySelector('#df-46d5816a-e0eb-41fb-acb1-ed299776214e');\n",
              "        const dataTable =\n",
              "          await google.colab.kernel.invokeFunction('convertToInteractive',\n",
              "                                                    [key], {});\n",
              "        if (!dataTable) return;\n",
              "\n",
              "        const docLinkHtml = 'Like what you see? Visit the ' +\n",
              "          '<a target=\"_blank\" href=https://colab.research.google.com/notebooks/data_table.ipynb>data table notebook</a>'\n",
              "          + ' to learn more about interactive tables.';\n",
              "        element.innerHTML = '';\n",
              "        dataTable['output_type'] = 'display_data';\n",
              "        await google.colab.output.renderOutput(dataTable, element);\n",
              "        const docLink = document.createElement('div');\n",
              "        docLink.innerHTML = docLinkHtml;\n",
              "        element.appendChild(docLink);\n",
              "      }\n",
              "    </script>\n",
              "  </div>\n",
              "\n",
              "\n",
              "    <div id=\"df-a591037d-07b4-479a-b770-52978a15f19f\">\n",
              "      <button class=\"colab-df-quickchart\" onclick=\"quickchart('df-a591037d-07b4-479a-b770-52978a15f19f')\"\n",
              "                title=\"Suggest charts\"\n",
              "                style=\"display:none;\">\n",
              "\n",
              "<svg xmlns=\"http://www.w3.org/2000/svg\" height=\"24px\"viewBox=\"0 0 24 24\"\n",
              "     width=\"24px\">\n",
              "    <g>\n",
              "        <path d=\"M19 3H5c-1.1 0-2 .9-2 2v14c0 1.1.9 2 2 2h14c1.1 0 2-.9 2-2V5c0-1.1-.9-2-2-2zM9 17H7v-7h2v7zm4 0h-2V7h2v10zm4 0h-2v-4h2v4z\"/>\n",
              "    </g>\n",
              "</svg>\n",
              "      </button>\n",
              "\n",
              "<style>\n",
              "  .colab-df-quickchart {\n",
              "      --bg-color: #E8F0FE;\n",
              "      --fill-color: #1967D2;\n",
              "      --hover-bg-color: #E2EBFA;\n",
              "      --hover-fill-color: #174EA6;\n",
              "      --disabled-fill-color: #AAA;\n",
              "      --disabled-bg-color: #DDD;\n",
              "  }\n",
              "\n",
              "  [theme=dark] .colab-df-quickchart {\n",
              "      --bg-color: #3B4455;\n",
              "      --fill-color: #D2E3FC;\n",
              "      --hover-bg-color: #434B5C;\n",
              "      --hover-fill-color: #FFFFFF;\n",
              "      --disabled-bg-color: #3B4455;\n",
              "      --disabled-fill-color: #666;\n",
              "  }\n",
              "\n",
              "  .colab-df-quickchart {\n",
              "    background-color: var(--bg-color);\n",
              "    border: none;\n",
              "    border-radius: 50%;\n",
              "    cursor: pointer;\n",
              "    display: none;\n",
              "    fill: var(--fill-color);\n",
              "    height: 32px;\n",
              "    padding: 0;\n",
              "    width: 32px;\n",
              "  }\n",
              "\n",
              "  .colab-df-quickchart:hover {\n",
              "    background-color: var(--hover-bg-color);\n",
              "    box-shadow: 0 1px 2px rgba(60, 64, 67, 0.3), 0 1px 3px 1px rgba(60, 64, 67, 0.15);\n",
              "    fill: var(--button-hover-fill-color);\n",
              "  }\n",
              "\n",
              "  .colab-df-quickchart-complete:disabled,\n",
              "  .colab-df-quickchart-complete:disabled:hover {\n",
              "    background-color: var(--disabled-bg-color);\n",
              "    fill: var(--disabled-fill-color);\n",
              "    box-shadow: none;\n",
              "  }\n",
              "\n",
              "  .colab-df-spinner {\n",
              "    border: 2px solid var(--fill-color);\n",
              "    border-color: transparent;\n",
              "    border-bottom-color: var(--fill-color);\n",
              "    animation:\n",
              "      spin 1s steps(1) infinite;\n",
              "  }\n",
              "\n",
              "  @keyframes spin {\n",
              "    0% {\n",
              "      border-color: transparent;\n",
              "      border-bottom-color: var(--fill-color);\n",
              "      border-left-color: var(--fill-color);\n",
              "    }\n",
              "    20% {\n",
              "      border-color: transparent;\n",
              "      border-left-color: var(--fill-color);\n",
              "      border-top-color: var(--fill-color);\n",
              "    }\n",
              "    30% {\n",
              "      border-color: transparent;\n",
              "      border-left-color: var(--fill-color);\n",
              "      border-top-color: var(--fill-color);\n",
              "      border-right-color: var(--fill-color);\n",
              "    }\n",
              "    40% {\n",
              "      border-color: transparent;\n",
              "      border-right-color: var(--fill-color);\n",
              "      border-top-color: var(--fill-color);\n",
              "    }\n",
              "    60% {\n",
              "      border-color: transparent;\n",
              "      border-right-color: var(--fill-color);\n",
              "    }\n",
              "    80% {\n",
              "      border-color: transparent;\n",
              "      border-right-color: var(--fill-color);\n",
              "      border-bottom-color: var(--fill-color);\n",
              "    }\n",
              "    90% {\n",
              "      border-color: transparent;\n",
              "      border-bottom-color: var(--fill-color);\n",
              "    }\n",
              "  }\n",
              "</style>\n",
              "\n",
              "      <script>\n",
              "        async function quickchart(key) {\n",
              "          const quickchartButtonEl =\n",
              "            document.querySelector('#' + key + ' button');\n",
              "          quickchartButtonEl.disabled = true;  // To prevent multiple clicks.\n",
              "          quickchartButtonEl.classList.add('colab-df-spinner');\n",
              "          try {\n",
              "            const charts = await google.colab.kernel.invokeFunction(\n",
              "                'suggestCharts', [key], {});\n",
              "          } catch (error) {\n",
              "            console.error('Error during call to suggestCharts:', error);\n",
              "          }\n",
              "          quickchartButtonEl.classList.remove('colab-df-spinner');\n",
              "          quickchartButtonEl.classList.add('colab-df-quickchart-complete');\n",
              "        }\n",
              "        (() => {\n",
              "          let quickchartButtonEl =\n",
              "            document.querySelector('#df-a591037d-07b4-479a-b770-52978a15f19f button');\n",
              "          quickchartButtonEl.style.display =\n",
              "            google.colab.kernel.accessAllowed ? 'block' : 'none';\n",
              "        })();\n",
              "      </script>\n",
              "    </div>\n",
              "\n",
              "    </div>\n",
              "  </div>\n"
            ],
            "application/vnd.google.colaboratory.intrinsic+json": {
              "type": "dataframe",
              "summary": "{\n  \"name\": \"df_movie\",\n  \"rows\": 8,\n  \"fields\": [\n    {\n      \"column\": \"movieId\",\n      \"properties\": {\n        \"dtype\": \"number\",\n        \"std\": 67592.08893559019,\n        \"min\": 1.0,\n        \"max\": 209171.0,\n        \"num_unique_values\": 8,\n        \"samples\": [\n          122220.38764557935,\n          138022.0,\n          62423.0\n        ],\n        \"semantic_type\": \"\",\n        \"description\": \"\"\n      }\n    }\n  ]\n}"
            }
          },
          "metadata": {},
          "execution_count": 5
        }
      ]
    },
    {
      "cell_type": "code",
      "source": [
        "# Cek describe data df_ratings\n",
        "\n",
        "df_rating.describe()"
      ],
      "metadata": {
        "colab": {
          "base_uri": "https://localhost:8080/",
          "height": 297
        },
        "id": "_VOwgig09PUg",
        "outputId": "7362b29e-b596-4ac3-8a5b-d860fc3f22a3"
      },
      "execution_count": 6,
      "outputs": [
        {
          "output_type": "execute_result",
          "data": {
            "text/plain": [
              "             userId       movieId        rating     timestamp\n",
              "count  2.500010e+07  2.500010e+07  2.500010e+07  2.500010e+07\n",
              "mean   8.118928e+04  2.138798e+04  3.533854e+00  1.215601e+09\n",
              "std    4.679172e+04  3.919886e+04  1.060744e+00  2.268758e+08\n",
              "min    1.000000e+00  1.000000e+00  5.000000e-01  7.896520e+08\n",
              "25%    4.051000e+04  1.196000e+03  3.000000e+00  1.011747e+09\n",
              "50%    8.091400e+04  2.947000e+03  3.500000e+00  1.198868e+09\n",
              "75%    1.215570e+05  8.623000e+03  4.000000e+00  1.447205e+09\n",
              "max    1.625410e+05  2.091710e+05  5.000000e+00  1.574328e+09"
            ],
            "text/html": [
              "\n",
              "  <div id=\"df-db62a2f3-e508-4bab-93ca-382a15f2e62a\" class=\"colab-df-container\">\n",
              "    <div>\n",
              "<style scoped>\n",
              "    .dataframe tbody tr th:only-of-type {\n",
              "        vertical-align: middle;\n",
              "    }\n",
              "\n",
              "    .dataframe tbody tr th {\n",
              "        vertical-align: top;\n",
              "    }\n",
              "\n",
              "    .dataframe thead th {\n",
              "        text-align: right;\n",
              "    }\n",
              "</style>\n",
              "<table border=\"1\" class=\"dataframe\">\n",
              "  <thead>\n",
              "    <tr style=\"text-align: right;\">\n",
              "      <th></th>\n",
              "      <th>userId</th>\n",
              "      <th>movieId</th>\n",
              "      <th>rating</th>\n",
              "      <th>timestamp</th>\n",
              "    </tr>\n",
              "  </thead>\n",
              "  <tbody>\n",
              "    <tr>\n",
              "      <th>count</th>\n",
              "      <td>2.500010e+07</td>\n",
              "      <td>2.500010e+07</td>\n",
              "      <td>2.500010e+07</td>\n",
              "      <td>2.500010e+07</td>\n",
              "    </tr>\n",
              "    <tr>\n",
              "      <th>mean</th>\n",
              "      <td>8.118928e+04</td>\n",
              "      <td>2.138798e+04</td>\n",
              "      <td>3.533854e+00</td>\n",
              "      <td>1.215601e+09</td>\n",
              "    </tr>\n",
              "    <tr>\n",
              "      <th>std</th>\n",
              "      <td>4.679172e+04</td>\n",
              "      <td>3.919886e+04</td>\n",
              "      <td>1.060744e+00</td>\n",
              "      <td>2.268758e+08</td>\n",
              "    </tr>\n",
              "    <tr>\n",
              "      <th>min</th>\n",
              "      <td>1.000000e+00</td>\n",
              "      <td>1.000000e+00</td>\n",
              "      <td>5.000000e-01</td>\n",
              "      <td>7.896520e+08</td>\n",
              "    </tr>\n",
              "    <tr>\n",
              "      <th>25%</th>\n",
              "      <td>4.051000e+04</td>\n",
              "      <td>1.196000e+03</td>\n",
              "      <td>3.000000e+00</td>\n",
              "      <td>1.011747e+09</td>\n",
              "    </tr>\n",
              "    <tr>\n",
              "      <th>50%</th>\n",
              "      <td>8.091400e+04</td>\n",
              "      <td>2.947000e+03</td>\n",
              "      <td>3.500000e+00</td>\n",
              "      <td>1.198868e+09</td>\n",
              "    </tr>\n",
              "    <tr>\n",
              "      <th>75%</th>\n",
              "      <td>1.215570e+05</td>\n",
              "      <td>8.623000e+03</td>\n",
              "      <td>4.000000e+00</td>\n",
              "      <td>1.447205e+09</td>\n",
              "    </tr>\n",
              "    <tr>\n",
              "      <th>max</th>\n",
              "      <td>1.625410e+05</td>\n",
              "      <td>2.091710e+05</td>\n",
              "      <td>5.000000e+00</td>\n",
              "      <td>1.574328e+09</td>\n",
              "    </tr>\n",
              "  </tbody>\n",
              "</table>\n",
              "</div>\n",
              "    <div class=\"colab-df-buttons\">\n",
              "\n",
              "  <div class=\"colab-df-container\">\n",
              "    <button class=\"colab-df-convert\" onclick=\"convertToInteractive('df-db62a2f3-e508-4bab-93ca-382a15f2e62a')\"\n",
              "            title=\"Convert this dataframe to an interactive table.\"\n",
              "            style=\"display:none;\">\n",
              "\n",
              "  <svg xmlns=\"http://www.w3.org/2000/svg\" height=\"24px\" viewBox=\"0 -960 960 960\">\n",
              "    <path d=\"M120-120v-720h720v720H120Zm60-500h600v-160H180v160Zm220 220h160v-160H400v160Zm0 220h160v-160H400v160ZM180-400h160v-160H180v160Zm440 0h160v-160H620v160ZM180-180h160v-160H180v160Zm440 0h160v-160H620v160Z\"/>\n",
              "  </svg>\n",
              "    </button>\n",
              "\n",
              "  <style>\n",
              "    .colab-df-container {\n",
              "      display:flex;\n",
              "      gap: 12px;\n",
              "    }\n",
              "\n",
              "    .colab-df-convert {\n",
              "      background-color: #E8F0FE;\n",
              "      border: none;\n",
              "      border-radius: 50%;\n",
              "      cursor: pointer;\n",
              "      display: none;\n",
              "      fill: #1967D2;\n",
              "      height: 32px;\n",
              "      padding: 0 0 0 0;\n",
              "      width: 32px;\n",
              "    }\n",
              "\n",
              "    .colab-df-convert:hover {\n",
              "      background-color: #E2EBFA;\n",
              "      box-shadow: 0px 1px 2px rgba(60, 64, 67, 0.3), 0px 1px 3px 1px rgba(60, 64, 67, 0.15);\n",
              "      fill: #174EA6;\n",
              "    }\n",
              "\n",
              "    .colab-df-buttons div {\n",
              "      margin-bottom: 4px;\n",
              "    }\n",
              "\n",
              "    [theme=dark] .colab-df-convert {\n",
              "      background-color: #3B4455;\n",
              "      fill: #D2E3FC;\n",
              "    }\n",
              "\n",
              "    [theme=dark] .colab-df-convert:hover {\n",
              "      background-color: #434B5C;\n",
              "      box-shadow: 0px 1px 3px 1px rgba(0, 0, 0, 0.15);\n",
              "      filter: drop-shadow(0px 1px 2px rgba(0, 0, 0, 0.3));\n",
              "      fill: #FFFFFF;\n",
              "    }\n",
              "  </style>\n",
              "\n",
              "    <script>\n",
              "      const buttonEl =\n",
              "        document.querySelector('#df-db62a2f3-e508-4bab-93ca-382a15f2e62a button.colab-df-convert');\n",
              "      buttonEl.style.display =\n",
              "        google.colab.kernel.accessAllowed ? 'block' : 'none';\n",
              "\n",
              "      async function convertToInteractive(key) {\n",
              "        const element = document.querySelector('#df-db62a2f3-e508-4bab-93ca-382a15f2e62a');\n",
              "        const dataTable =\n",
              "          await google.colab.kernel.invokeFunction('convertToInteractive',\n",
              "                                                    [key], {});\n",
              "        if (!dataTable) return;\n",
              "\n",
              "        const docLinkHtml = 'Like what you see? Visit the ' +\n",
              "          '<a target=\"_blank\" href=https://colab.research.google.com/notebooks/data_table.ipynb>data table notebook</a>'\n",
              "          + ' to learn more about interactive tables.';\n",
              "        element.innerHTML = '';\n",
              "        dataTable['output_type'] = 'display_data';\n",
              "        await google.colab.output.renderOutput(dataTable, element);\n",
              "        const docLink = document.createElement('div');\n",
              "        docLink.innerHTML = docLinkHtml;\n",
              "        element.appendChild(docLink);\n",
              "      }\n",
              "    </script>\n",
              "  </div>\n",
              "\n",
              "\n",
              "    <div id=\"df-2cf4fcf7-d768-45ed-a518-513c91876b54\">\n",
              "      <button class=\"colab-df-quickchart\" onclick=\"quickchart('df-2cf4fcf7-d768-45ed-a518-513c91876b54')\"\n",
              "                title=\"Suggest charts\"\n",
              "                style=\"display:none;\">\n",
              "\n",
              "<svg xmlns=\"http://www.w3.org/2000/svg\" height=\"24px\"viewBox=\"0 0 24 24\"\n",
              "     width=\"24px\">\n",
              "    <g>\n",
              "        <path d=\"M19 3H5c-1.1 0-2 .9-2 2v14c0 1.1.9 2 2 2h14c1.1 0 2-.9 2-2V5c0-1.1-.9-2-2-2zM9 17H7v-7h2v7zm4 0h-2V7h2v10zm4 0h-2v-4h2v4z\"/>\n",
              "    </g>\n",
              "</svg>\n",
              "      </button>\n",
              "\n",
              "<style>\n",
              "  .colab-df-quickchart {\n",
              "      --bg-color: #E8F0FE;\n",
              "      --fill-color: #1967D2;\n",
              "      --hover-bg-color: #E2EBFA;\n",
              "      --hover-fill-color: #174EA6;\n",
              "      --disabled-fill-color: #AAA;\n",
              "      --disabled-bg-color: #DDD;\n",
              "  }\n",
              "\n",
              "  [theme=dark] .colab-df-quickchart {\n",
              "      --bg-color: #3B4455;\n",
              "      --fill-color: #D2E3FC;\n",
              "      --hover-bg-color: #434B5C;\n",
              "      --hover-fill-color: #FFFFFF;\n",
              "      --disabled-bg-color: #3B4455;\n",
              "      --disabled-fill-color: #666;\n",
              "  }\n",
              "\n",
              "  .colab-df-quickchart {\n",
              "    background-color: var(--bg-color);\n",
              "    border: none;\n",
              "    border-radius: 50%;\n",
              "    cursor: pointer;\n",
              "    display: none;\n",
              "    fill: var(--fill-color);\n",
              "    height: 32px;\n",
              "    padding: 0;\n",
              "    width: 32px;\n",
              "  }\n",
              "\n",
              "  .colab-df-quickchart:hover {\n",
              "    background-color: var(--hover-bg-color);\n",
              "    box-shadow: 0 1px 2px rgba(60, 64, 67, 0.3), 0 1px 3px 1px rgba(60, 64, 67, 0.15);\n",
              "    fill: var(--button-hover-fill-color);\n",
              "  }\n",
              "\n",
              "  .colab-df-quickchart-complete:disabled,\n",
              "  .colab-df-quickchart-complete:disabled:hover {\n",
              "    background-color: var(--disabled-bg-color);\n",
              "    fill: var(--disabled-fill-color);\n",
              "    box-shadow: none;\n",
              "  }\n",
              "\n",
              "  .colab-df-spinner {\n",
              "    border: 2px solid var(--fill-color);\n",
              "    border-color: transparent;\n",
              "    border-bottom-color: var(--fill-color);\n",
              "    animation:\n",
              "      spin 1s steps(1) infinite;\n",
              "  }\n",
              "\n",
              "  @keyframes spin {\n",
              "    0% {\n",
              "      border-color: transparent;\n",
              "      border-bottom-color: var(--fill-color);\n",
              "      border-left-color: var(--fill-color);\n",
              "    }\n",
              "    20% {\n",
              "      border-color: transparent;\n",
              "      border-left-color: var(--fill-color);\n",
              "      border-top-color: var(--fill-color);\n",
              "    }\n",
              "    30% {\n",
              "      border-color: transparent;\n",
              "      border-left-color: var(--fill-color);\n",
              "      border-top-color: var(--fill-color);\n",
              "      border-right-color: var(--fill-color);\n",
              "    }\n",
              "    40% {\n",
              "      border-color: transparent;\n",
              "      border-right-color: var(--fill-color);\n",
              "      border-top-color: var(--fill-color);\n",
              "    }\n",
              "    60% {\n",
              "      border-color: transparent;\n",
              "      border-right-color: var(--fill-color);\n",
              "    }\n",
              "    80% {\n",
              "      border-color: transparent;\n",
              "      border-right-color: var(--fill-color);\n",
              "      border-bottom-color: var(--fill-color);\n",
              "    }\n",
              "    90% {\n",
              "      border-color: transparent;\n",
              "      border-bottom-color: var(--fill-color);\n",
              "    }\n",
              "  }\n",
              "</style>\n",
              "\n",
              "      <script>\n",
              "        async function quickchart(key) {\n",
              "          const quickchartButtonEl =\n",
              "            document.querySelector('#' + key + ' button');\n",
              "          quickchartButtonEl.disabled = true;  // To prevent multiple clicks.\n",
              "          quickchartButtonEl.classList.add('colab-df-spinner');\n",
              "          try {\n",
              "            const charts = await google.colab.kernel.invokeFunction(\n",
              "                'suggestCharts', [key], {});\n",
              "          } catch (error) {\n",
              "            console.error('Error during call to suggestCharts:', error);\n",
              "          }\n",
              "          quickchartButtonEl.classList.remove('colab-df-spinner');\n",
              "          quickchartButtonEl.classList.add('colab-df-quickchart-complete');\n",
              "        }\n",
              "        (() => {\n",
              "          let quickchartButtonEl =\n",
              "            document.querySelector('#df-2cf4fcf7-d768-45ed-a518-513c91876b54 button');\n",
              "          quickchartButtonEl.style.display =\n",
              "            google.colab.kernel.accessAllowed ? 'block' : 'none';\n",
              "        })();\n",
              "      </script>\n",
              "    </div>\n",
              "\n",
              "    </div>\n",
              "  </div>\n"
            ],
            "application/vnd.google.colaboratory.intrinsic+json": {
              "type": "dataframe",
              "summary": "{\n  \"name\": \"df_rating\",\n  \"rows\": 8,\n  \"fields\": [\n    {\n      \"column\": \"userId\",\n      \"properties\": {\n        \"dtype\": \"number\",\n        \"std\": 8812064.216351567,\n        \"min\": 1.0,\n        \"max\": 25000095.0,\n        \"num_unique_values\": 8,\n        \"samples\": [\n          81189.28115381162,\n          80914.0,\n          25000095.0\n        ],\n        \"semantic_type\": \"\",\n        \"description\": \"\"\n      }\n    },\n    {\n      \"column\": \"movieId\",\n      \"properties\": {\n        \"dtype\": \"number\",\n        \"std\": 8824877.358207932,\n        \"min\": 1.0,\n        \"max\": 25000095.0,\n        \"num_unique_values\": 8,\n        \"samples\": [\n          21387.981943268616,\n          2947.0,\n          25000095.0\n        ],\n        \"semantic_type\": \"\",\n        \"description\": \"\"\n      }\n    },\n    {\n      \"column\": \"rating\",\n      \"properties\": {\n        \"dtype\": \"number\",\n        \"std\": 8838867.312219776,\n        \"min\": 0.5,\n        \"max\": 25000095.0,\n        \"num_unique_values\": 8,\n        \"samples\": [\n          3.533854451353085,\n          3.5,\n          25000095.0\n        ],\n        \"semantic_type\": \"\",\n        \"description\": \"\"\n      }\n    },\n    {\n      \"column\": \"timestamp\",\n      \"properties\": {\n        \"dtype\": \"number\",\n        \"std\": 557546030.015133,\n        \"min\": 25000095.0,\n        \"max\": 1574327703.0,\n        \"num_unique_values\": 8,\n        \"samples\": [\n          1215601443.12155,\n          1198868375.0,\n          25000095.0\n        ],\n        \"semantic_type\": \"\",\n        \"description\": \"\"\n      }\n    }\n  ]\n}"
            }
          },
          "metadata": {},
          "execution_count": 6
        }
      ]
    },
    {
      "cell_type": "markdown",
      "source": [
        "Menampilkan deskripsi dataset, dari nilai minimum, std hingga total data."
      ],
      "metadata": {
        "id": "APlcWjB6WQZA"
      }
    },
    {
      "cell_type": "code",
      "source": [
        "# Cek sample data df_rating\n",
        "df_rating"
      ],
      "metadata": {
        "colab": {
          "base_uri": "https://localhost:8080/",
          "height": 419
        },
        "id": "5tFi_5wZ3Axb",
        "outputId": "3829684a-f189-48aa-f156-6c5b8dd7ea0b"
      },
      "execution_count": 7,
      "outputs": [
        {
          "output_type": "execute_result",
          "data": {
            "text/plain": [
              "          userId  movieId  rating   timestamp\n",
              "0              1      296     5.0  1147880044\n",
              "1              1      306     3.5  1147868817\n",
              "2              1      307     5.0  1147868828\n",
              "3              1      665     5.0  1147878820\n",
              "4              1      899     3.5  1147868510\n",
              "...          ...      ...     ...         ...\n",
              "25000090  162541    50872     4.5  1240953372\n",
              "25000091  162541    55768     2.5  1240951998\n",
              "25000092  162541    56176     2.0  1240950697\n",
              "25000093  162541    58559     4.0  1240953434\n",
              "25000094  162541    63876     5.0  1240952515\n",
              "\n",
              "[25000095 rows x 4 columns]"
            ],
            "text/html": [
              "\n",
              "  <div id=\"df-154862b4-f7a3-4239-bf7e-c490e54d11de\" class=\"colab-df-container\">\n",
              "    <div>\n",
              "<style scoped>\n",
              "    .dataframe tbody tr th:only-of-type {\n",
              "        vertical-align: middle;\n",
              "    }\n",
              "\n",
              "    .dataframe tbody tr th {\n",
              "        vertical-align: top;\n",
              "    }\n",
              "\n",
              "    .dataframe thead th {\n",
              "        text-align: right;\n",
              "    }\n",
              "</style>\n",
              "<table border=\"1\" class=\"dataframe\">\n",
              "  <thead>\n",
              "    <tr style=\"text-align: right;\">\n",
              "      <th></th>\n",
              "      <th>userId</th>\n",
              "      <th>movieId</th>\n",
              "      <th>rating</th>\n",
              "      <th>timestamp</th>\n",
              "    </tr>\n",
              "  </thead>\n",
              "  <tbody>\n",
              "    <tr>\n",
              "      <th>0</th>\n",
              "      <td>1</td>\n",
              "      <td>296</td>\n",
              "      <td>5.0</td>\n",
              "      <td>1147880044</td>\n",
              "    </tr>\n",
              "    <tr>\n",
              "      <th>1</th>\n",
              "      <td>1</td>\n",
              "      <td>306</td>\n",
              "      <td>3.5</td>\n",
              "      <td>1147868817</td>\n",
              "    </tr>\n",
              "    <tr>\n",
              "      <th>2</th>\n",
              "      <td>1</td>\n",
              "      <td>307</td>\n",
              "      <td>5.0</td>\n",
              "      <td>1147868828</td>\n",
              "    </tr>\n",
              "    <tr>\n",
              "      <th>3</th>\n",
              "      <td>1</td>\n",
              "      <td>665</td>\n",
              "      <td>5.0</td>\n",
              "      <td>1147878820</td>\n",
              "    </tr>\n",
              "    <tr>\n",
              "      <th>4</th>\n",
              "      <td>1</td>\n",
              "      <td>899</td>\n",
              "      <td>3.5</td>\n",
              "      <td>1147868510</td>\n",
              "    </tr>\n",
              "    <tr>\n",
              "      <th>...</th>\n",
              "      <td>...</td>\n",
              "      <td>...</td>\n",
              "      <td>...</td>\n",
              "      <td>...</td>\n",
              "    </tr>\n",
              "    <tr>\n",
              "      <th>25000090</th>\n",
              "      <td>162541</td>\n",
              "      <td>50872</td>\n",
              "      <td>4.5</td>\n",
              "      <td>1240953372</td>\n",
              "    </tr>\n",
              "    <tr>\n",
              "      <th>25000091</th>\n",
              "      <td>162541</td>\n",
              "      <td>55768</td>\n",
              "      <td>2.5</td>\n",
              "      <td>1240951998</td>\n",
              "    </tr>\n",
              "    <tr>\n",
              "      <th>25000092</th>\n",
              "      <td>162541</td>\n",
              "      <td>56176</td>\n",
              "      <td>2.0</td>\n",
              "      <td>1240950697</td>\n",
              "    </tr>\n",
              "    <tr>\n",
              "      <th>25000093</th>\n",
              "      <td>162541</td>\n",
              "      <td>58559</td>\n",
              "      <td>4.0</td>\n",
              "      <td>1240953434</td>\n",
              "    </tr>\n",
              "    <tr>\n",
              "      <th>25000094</th>\n",
              "      <td>162541</td>\n",
              "      <td>63876</td>\n",
              "      <td>5.0</td>\n",
              "      <td>1240952515</td>\n",
              "    </tr>\n",
              "  </tbody>\n",
              "</table>\n",
              "<p>25000095 rows × 4 columns</p>\n",
              "</div>\n",
              "    <div class=\"colab-df-buttons\">\n",
              "\n",
              "  <div class=\"colab-df-container\">\n",
              "    <button class=\"colab-df-convert\" onclick=\"convertToInteractive('df-154862b4-f7a3-4239-bf7e-c490e54d11de')\"\n",
              "            title=\"Convert this dataframe to an interactive table.\"\n",
              "            style=\"display:none;\">\n",
              "\n",
              "  <svg xmlns=\"http://www.w3.org/2000/svg\" height=\"24px\" viewBox=\"0 -960 960 960\">\n",
              "    <path d=\"M120-120v-720h720v720H120Zm60-500h600v-160H180v160Zm220 220h160v-160H400v160Zm0 220h160v-160H400v160ZM180-400h160v-160H180v160Zm440 0h160v-160H620v160ZM180-180h160v-160H180v160Zm440 0h160v-160H620v160Z\"/>\n",
              "  </svg>\n",
              "    </button>\n",
              "\n",
              "  <style>\n",
              "    .colab-df-container {\n",
              "      display:flex;\n",
              "      gap: 12px;\n",
              "    }\n",
              "\n",
              "    .colab-df-convert {\n",
              "      background-color: #E8F0FE;\n",
              "      border: none;\n",
              "      border-radius: 50%;\n",
              "      cursor: pointer;\n",
              "      display: none;\n",
              "      fill: #1967D2;\n",
              "      height: 32px;\n",
              "      padding: 0 0 0 0;\n",
              "      width: 32px;\n",
              "    }\n",
              "\n",
              "    .colab-df-convert:hover {\n",
              "      background-color: #E2EBFA;\n",
              "      box-shadow: 0px 1px 2px rgba(60, 64, 67, 0.3), 0px 1px 3px 1px rgba(60, 64, 67, 0.15);\n",
              "      fill: #174EA6;\n",
              "    }\n",
              "\n",
              "    .colab-df-buttons div {\n",
              "      margin-bottom: 4px;\n",
              "    }\n",
              "\n",
              "    [theme=dark] .colab-df-convert {\n",
              "      background-color: #3B4455;\n",
              "      fill: #D2E3FC;\n",
              "    }\n",
              "\n",
              "    [theme=dark] .colab-df-convert:hover {\n",
              "      background-color: #434B5C;\n",
              "      box-shadow: 0px 1px 3px 1px rgba(0, 0, 0, 0.15);\n",
              "      filter: drop-shadow(0px 1px 2px rgba(0, 0, 0, 0.3));\n",
              "      fill: #FFFFFF;\n",
              "    }\n",
              "  </style>\n",
              "\n",
              "    <script>\n",
              "      const buttonEl =\n",
              "        document.querySelector('#df-154862b4-f7a3-4239-bf7e-c490e54d11de button.colab-df-convert');\n",
              "      buttonEl.style.display =\n",
              "        google.colab.kernel.accessAllowed ? 'block' : 'none';\n",
              "\n",
              "      async function convertToInteractive(key) {\n",
              "        const element = document.querySelector('#df-154862b4-f7a3-4239-bf7e-c490e54d11de');\n",
              "        const dataTable =\n",
              "          await google.colab.kernel.invokeFunction('convertToInteractive',\n",
              "                                                    [key], {});\n",
              "        if (!dataTable) return;\n",
              "\n",
              "        const docLinkHtml = 'Like what you see? Visit the ' +\n",
              "          '<a target=\"_blank\" href=https://colab.research.google.com/notebooks/data_table.ipynb>data table notebook</a>'\n",
              "          + ' to learn more about interactive tables.';\n",
              "        element.innerHTML = '';\n",
              "        dataTable['output_type'] = 'display_data';\n",
              "        await google.colab.output.renderOutput(dataTable, element);\n",
              "        const docLink = document.createElement('div');\n",
              "        docLink.innerHTML = docLinkHtml;\n",
              "        element.appendChild(docLink);\n",
              "      }\n",
              "    </script>\n",
              "  </div>\n",
              "\n",
              "\n",
              "    <div id=\"df-9321e2c8-98ac-439c-8fb7-d3676ec0a544\">\n",
              "      <button class=\"colab-df-quickchart\" onclick=\"quickchart('df-9321e2c8-98ac-439c-8fb7-d3676ec0a544')\"\n",
              "                title=\"Suggest charts\"\n",
              "                style=\"display:none;\">\n",
              "\n",
              "<svg xmlns=\"http://www.w3.org/2000/svg\" height=\"24px\"viewBox=\"0 0 24 24\"\n",
              "     width=\"24px\">\n",
              "    <g>\n",
              "        <path d=\"M19 3H5c-1.1 0-2 .9-2 2v14c0 1.1.9 2 2 2h14c1.1 0 2-.9 2-2V5c0-1.1-.9-2-2-2zM9 17H7v-7h2v7zm4 0h-2V7h2v10zm4 0h-2v-4h2v4z\"/>\n",
              "    </g>\n",
              "</svg>\n",
              "      </button>\n",
              "\n",
              "<style>\n",
              "  .colab-df-quickchart {\n",
              "      --bg-color: #E8F0FE;\n",
              "      --fill-color: #1967D2;\n",
              "      --hover-bg-color: #E2EBFA;\n",
              "      --hover-fill-color: #174EA6;\n",
              "      --disabled-fill-color: #AAA;\n",
              "      --disabled-bg-color: #DDD;\n",
              "  }\n",
              "\n",
              "  [theme=dark] .colab-df-quickchart {\n",
              "      --bg-color: #3B4455;\n",
              "      --fill-color: #D2E3FC;\n",
              "      --hover-bg-color: #434B5C;\n",
              "      --hover-fill-color: #FFFFFF;\n",
              "      --disabled-bg-color: #3B4455;\n",
              "      --disabled-fill-color: #666;\n",
              "  }\n",
              "\n",
              "  .colab-df-quickchart {\n",
              "    background-color: var(--bg-color);\n",
              "    border: none;\n",
              "    border-radius: 50%;\n",
              "    cursor: pointer;\n",
              "    display: none;\n",
              "    fill: var(--fill-color);\n",
              "    height: 32px;\n",
              "    padding: 0;\n",
              "    width: 32px;\n",
              "  }\n",
              "\n",
              "  .colab-df-quickchart:hover {\n",
              "    background-color: var(--hover-bg-color);\n",
              "    box-shadow: 0 1px 2px rgba(60, 64, 67, 0.3), 0 1px 3px 1px rgba(60, 64, 67, 0.15);\n",
              "    fill: var(--button-hover-fill-color);\n",
              "  }\n",
              "\n",
              "  .colab-df-quickchart-complete:disabled,\n",
              "  .colab-df-quickchart-complete:disabled:hover {\n",
              "    background-color: var(--disabled-bg-color);\n",
              "    fill: var(--disabled-fill-color);\n",
              "    box-shadow: none;\n",
              "  }\n",
              "\n",
              "  .colab-df-spinner {\n",
              "    border: 2px solid var(--fill-color);\n",
              "    border-color: transparent;\n",
              "    border-bottom-color: var(--fill-color);\n",
              "    animation:\n",
              "      spin 1s steps(1) infinite;\n",
              "  }\n",
              "\n",
              "  @keyframes spin {\n",
              "    0% {\n",
              "      border-color: transparent;\n",
              "      border-bottom-color: var(--fill-color);\n",
              "      border-left-color: var(--fill-color);\n",
              "    }\n",
              "    20% {\n",
              "      border-color: transparent;\n",
              "      border-left-color: var(--fill-color);\n",
              "      border-top-color: var(--fill-color);\n",
              "    }\n",
              "    30% {\n",
              "      border-color: transparent;\n",
              "      border-left-color: var(--fill-color);\n",
              "      border-top-color: var(--fill-color);\n",
              "      border-right-color: var(--fill-color);\n",
              "    }\n",
              "    40% {\n",
              "      border-color: transparent;\n",
              "      border-right-color: var(--fill-color);\n",
              "      border-top-color: var(--fill-color);\n",
              "    }\n",
              "    60% {\n",
              "      border-color: transparent;\n",
              "      border-right-color: var(--fill-color);\n",
              "    }\n",
              "    80% {\n",
              "      border-color: transparent;\n",
              "      border-right-color: var(--fill-color);\n",
              "      border-bottom-color: var(--fill-color);\n",
              "    }\n",
              "    90% {\n",
              "      border-color: transparent;\n",
              "      border-bottom-color: var(--fill-color);\n",
              "    }\n",
              "  }\n",
              "</style>\n",
              "\n",
              "      <script>\n",
              "        async function quickchart(key) {\n",
              "          const quickchartButtonEl =\n",
              "            document.querySelector('#' + key + ' button');\n",
              "          quickchartButtonEl.disabled = true;  // To prevent multiple clicks.\n",
              "          quickchartButtonEl.classList.add('colab-df-spinner');\n",
              "          try {\n",
              "            const charts = await google.colab.kernel.invokeFunction(\n",
              "                'suggestCharts', [key], {});\n",
              "          } catch (error) {\n",
              "            console.error('Error during call to suggestCharts:', error);\n",
              "          }\n",
              "          quickchartButtonEl.classList.remove('colab-df-spinner');\n",
              "          quickchartButtonEl.classList.add('colab-df-quickchart-complete');\n",
              "        }\n",
              "        (() => {\n",
              "          let quickchartButtonEl =\n",
              "            document.querySelector('#df-9321e2c8-98ac-439c-8fb7-d3676ec0a544 button');\n",
              "          quickchartButtonEl.style.display =\n",
              "            google.colab.kernel.accessAllowed ? 'block' : 'none';\n",
              "        })();\n",
              "      </script>\n",
              "    </div>\n",
              "\n",
              "  <div id=\"id_9ed2f23e-014f-4bf6-8d99-510b5121bacc\">\n",
              "    <style>\n",
              "      .colab-df-generate {\n",
              "        background-color: #E8F0FE;\n",
              "        border: none;\n",
              "        border-radius: 50%;\n",
              "        cursor: pointer;\n",
              "        display: none;\n",
              "        fill: #1967D2;\n",
              "        height: 32px;\n",
              "        padding: 0 0 0 0;\n",
              "        width: 32px;\n",
              "      }\n",
              "\n",
              "      .colab-df-generate:hover {\n",
              "        background-color: #E2EBFA;\n",
              "        box-shadow: 0px 1px 2px rgba(60, 64, 67, 0.3), 0px 1px 3px 1px rgba(60, 64, 67, 0.15);\n",
              "        fill: #174EA6;\n",
              "      }\n",
              "\n",
              "      [theme=dark] .colab-df-generate {\n",
              "        background-color: #3B4455;\n",
              "        fill: #D2E3FC;\n",
              "      }\n",
              "\n",
              "      [theme=dark] .colab-df-generate:hover {\n",
              "        background-color: #434B5C;\n",
              "        box-shadow: 0px 1px 3px 1px rgba(0, 0, 0, 0.15);\n",
              "        filter: drop-shadow(0px 1px 2px rgba(0, 0, 0, 0.3));\n",
              "        fill: #FFFFFF;\n",
              "      }\n",
              "    </style>\n",
              "    <button class=\"colab-df-generate\" onclick=\"generateWithVariable('df_rating')\"\n",
              "            title=\"Generate code using this dataframe.\"\n",
              "            style=\"display:none;\">\n",
              "\n",
              "  <svg xmlns=\"http://www.w3.org/2000/svg\" height=\"24px\"viewBox=\"0 0 24 24\"\n",
              "       width=\"24px\">\n",
              "    <path d=\"M7,19H8.4L18.45,9,17,7.55,7,17.6ZM5,21V16.75L18.45,3.32a2,2,0,0,1,2.83,0l1.4,1.43a1.91,1.91,0,0,1,.58,1.4,1.91,1.91,0,0,1-.58,1.4L9.25,21ZM18.45,9,17,7.55Zm-12,3A5.31,5.31,0,0,0,4.9,8.1,5.31,5.31,0,0,0,1,6.5,5.31,5.31,0,0,0,4.9,4.9,5.31,5.31,0,0,0,6.5,1,5.31,5.31,0,0,0,8.1,4.9,5.31,5.31,0,0,0,12,6.5,5.46,5.46,0,0,0,6.5,12Z\"/>\n",
              "  </svg>\n",
              "    </button>\n",
              "    <script>\n",
              "      (() => {\n",
              "      const buttonEl =\n",
              "        document.querySelector('#id_9ed2f23e-014f-4bf6-8d99-510b5121bacc button.colab-df-generate');\n",
              "      buttonEl.style.display =\n",
              "        google.colab.kernel.accessAllowed ? 'block' : 'none';\n",
              "\n",
              "      buttonEl.onclick = () => {\n",
              "        google.colab.notebook.generateWithVariable('df_rating');\n",
              "      }\n",
              "      })();\n",
              "    </script>\n",
              "  </div>\n",
              "\n",
              "    </div>\n",
              "  </div>\n"
            ],
            "application/vnd.google.colaboratory.intrinsic+json": {
              "type": "dataframe",
              "variable_name": "df_rating"
            }
          },
          "metadata": {},
          "execution_count": 7
        }
      ]
    },
    {
      "cell_type": "markdown",
      "source": [
        "Menampilkan sample data dari df_rating. Didapatkan di data df_rating memiliki kolom userId, movieId, rating dan timestamp."
      ],
      "metadata": {
        "id": "Ij4i7T4HXDpc"
      }
    },
    {
      "cell_type": "code",
      "source": [
        "# Cek informasi dari dataset\n",
        "print(df_movie.info())\n",
        "print()\n",
        "print(df_rating.info())\n"
      ],
      "metadata": {
        "colab": {
          "base_uri": "https://localhost:8080/"
        },
        "id": "51CUceAa2S-j",
        "outputId": "adf32233-b394-4a5b-aa85-43f2b394279d"
      },
      "execution_count": 8,
      "outputs": [
        {
          "output_type": "stream",
          "name": "stdout",
          "text": [
            "<class 'pandas.core.frame.DataFrame'>\n",
            "RangeIndex: 62423 entries, 0 to 62422\n",
            "Data columns (total 3 columns):\n",
            " #   Column   Non-Null Count  Dtype \n",
            "---  ------   --------------  ----- \n",
            " 0   movieId  62423 non-null  int64 \n",
            " 1   title    62423 non-null  object\n",
            " 2   genres   62423 non-null  object\n",
            "dtypes: int64(1), object(2)\n",
            "memory usage: 1.4+ MB\n",
            "None\n",
            "\n",
            "<class 'pandas.core.frame.DataFrame'>\n",
            "RangeIndex: 25000095 entries, 0 to 25000094\n",
            "Data columns (total 4 columns):\n",
            " #   Column     Dtype  \n",
            "---  ------     -----  \n",
            " 0   userId     int64  \n",
            " 1   movieId    int64  \n",
            " 2   rating     float64\n",
            " 3   timestamp  int64  \n",
            "dtypes: float64(1), int64(3)\n",
            "memory usage: 762.9 MB\n",
            "None\n"
          ]
        }
      ]
    },
    {
      "cell_type": "markdown",
      "source": [
        "cek informasi detail dari dataframe, pada df_movie didapatkan movieId memiliki tipe data integer, title & genres memiliki tipe data string.\n",
        "\n",
        "pada df_rating= userId, movieId, dan time stamp memiliki tipe data integer, dan rating memiliki tipe data float."
      ],
      "metadata": {
        "id": "bvC0ohOtXRru"
      }
    },
    {
      "cell_type": "code",
      "source": [
        "# Cek data null\n",
        "print(df_movie.isnull().sum())\n",
        "print(df_rating.isnull().sum())"
      ],
      "metadata": {
        "colab": {
          "base_uri": "https://localhost:8080/"
        },
        "id": "bVBd8F7_2hCD",
        "outputId": "c889026d-b9c6-4189-cd8c-d7bb8201baf3"
      },
      "execution_count": 9,
      "outputs": [
        {
          "output_type": "stream",
          "name": "stdout",
          "text": [
            "movieId    0\n",
            "title      0\n",
            "genres     0\n",
            "dtype: int64\n",
            "userId       0\n",
            "movieId      0\n",
            "rating       0\n",
            "timestamp    0\n",
            "dtype: int64\n"
          ]
        }
      ]
    },
    {
      "cell_type": "markdown",
      "source": [
        "Cek data null, setelah pengecekan tidak didapatkan data null di kedua dataframe."
      ],
      "metadata": {
        "id": "_qFHjsxJX0Te"
      }
    },
    {
      "cell_type": "code",
      "source": [
        "# Cek data duplikat\n",
        "print(df_movie.duplicated().sum())\n",
        "print(df_rating.duplicated().sum())"
      ],
      "metadata": {
        "colab": {
          "base_uri": "https://localhost:8080/"
        },
        "id": "UZ7CMOnZ2lZJ",
        "outputId": "15ac85b8-2a57-4aaf-83de-64551f390588"
      },
      "execution_count": 10,
      "outputs": [
        {
          "output_type": "stream",
          "name": "stdout",
          "text": [
            "0\n",
            "0\n"
          ]
        }
      ]
    },
    {
      "cell_type": "markdown",
      "source": [
        "Cek data duplikat, setelah pengecekan tidak ada data duplikat di kedua dataframe."
      ],
      "metadata": {
        "id": "4Ux5mNbMX6-C"
      }
    },
    {
      "cell_type": "code",
      "source": [
        "# Cek total unique users dan movies\n",
        "print(\"Unique users:\", df_rating['userId'].nunique())\n",
        "print(\"Unique movies:\", df_rating['movieId'].nunique())\n",
        "\n"
      ],
      "metadata": {
        "colab": {
          "base_uri": "https://localhost:8080/"
        },
        "id": "XSWf75ce3JQ5",
        "outputId": "ae4efde0-7cfe-42be-9841-545faf473cad"
      },
      "execution_count": 11,
      "outputs": [
        {
          "output_type": "stream",
          "name": "stdout",
          "text": [
            "Unique users: 162541\n",
            "Unique movies: 59047\n"
          ]
        }
      ]
    },
    {
      "cell_type": "markdown",
      "source": [
        "Didapatkan sebanyak 162541 unique users dan 59047 unique movies dari df_rating."
      ],
      "metadata": {
        "id": "JOvdkb1PYBIk"
      }
    },
    {
      "cell_type": "markdown",
      "source": [
        "### Distribusi data"
      ],
      "metadata": {
        "id": "tj59nbXj6Gdp"
      }
    },
    {
      "cell_type": "code",
      "source": [
        "# Distribusi data rating\n",
        "sns.histplot(df_rating['rating'], bins=10, kde=False)\n",
        "plt.title('Rating Distribution')\n",
        "plt.xlabel('Rating')\n",
        "plt.ylabel('Count')\n",
        "plt.show()\n"
      ],
      "metadata": {
        "colab": {
          "base_uri": "https://localhost:8080/",
          "height": 472
        },
        "id": "5gJuyB3m3SVm",
        "outputId": "9edfcf76-bdac-4e0b-842a-e65885081932"
      },
      "execution_count": 12,
      "outputs": [
        {
          "output_type": "display_data",
          "data": {
            "text/plain": [
              "<Figure size 640x480 with 1 Axes>"
            ],
            "image/png": "[encoded data removed]"
          },
          "metadata": {}
        }
      ]
    },
    {
      "cell_type": "markdown",
      "source": [
        "Berikut merupakan visualisasi distribusi rating dari dataframe df_rating"
      ],
      "metadata": {
        "id": "puXz5bu4YI4J"
      }
    },
    {
      "cell_type": "code",
      "source": [
        "# Top 10 movies dengan rating terbanyak\n",
        "rating_counts = df_rating.groupby('movieId')['rating'].count().reset_index()\n",
        "rating_counts.columns = ['movieId', 'rating_count']\n",
        "\n",
        "top_rated_movies = rating_counts.sort_values('rating_count', ascending=False).head(10)\n",
        "top_movies = top_rated_movies.merge(df_movie, on='movieId')\n",
        "\n",
        "plt.figure(figsize=(10,5))\n",
        "sns.barplot(x='rating_count', y='title', data=top_movies, palette='viridis')\n",
        "plt.title('Top 10 Most Rated Movies')\n",
        "plt.xlabel('Number of Ratings')\n",
        "plt.ylabel('Movie Title')\n",
        "plt.tight_layout()\n",
        "plt.show()\n"
      ],
      "metadata": {
        "colab": {
          "base_uri": "https://localhost:8080/",
          "height": 612
        },
        "id": "dxyQgQQL3Vw2",
        "outputId": "8d9e012d-8017-465e-8324-120821b65c02"
      },
      "execution_count": 13,
      "outputs": [
        {
          "output_type": "stream",
          "name": "stderr",
          "text": [
            "<ipython-input-13-c6bbe8951508>:9: FutureWarning: \n",
            "\n",
            "Passing `palette` without assigning `hue` is deprecated and will be removed in v0.14.0. Assign the `y` variable to `hue` and set `legend=False` for the same effect.\n",
            "\n",
            "  sns.barplot(x='rating_count', y='title', data=top_movies, palette='viridis')\n"
          ]
        },
        {
          "output_type": "display_data",
          "data": {
            "text/plain": [
              "<Figure size 1000x500 with 1 Axes>"
            ],
            "image/png": "[encoded data removed]"
          },
          "metadata": {}
        }
      ]
    },
    {
      "cell_type": "markdown",
      "source": [
        "berikut merupakan visualisasi top 10 movies yang paling banyak di rate."
      ],
      "metadata": {
        "id": "SzFj9Xh2YOKK"
      }
    },
    {
      "cell_type": "code",
      "source": [
        "# Distribusi genre populer\n",
        "df_movie['genres_split'] = df_movie['genres'].str.split('|')\n",
        "\n",
        "genre_counts = Counter()\n",
        "df_movie['genres_split'].apply(lambda x: genre_counts.update(x))\n",
        "\n",
        "# Convert ke DataFrame\n",
        "df_genres = pd.DataFrame(genre_counts.items(), columns=['genre', 'count']).sort_values(by='count', ascending=False)\n",
        "\n",
        "plt.figure(figsize=(10,5))\n",
        "sns.barplot(x='count', y='genre', data=df_genres.head(10), palette='magma')\n",
        "plt.title('Top 10 Most Common Genres')\n",
        "plt.xlabel('Count')\n",
        "plt.ylabel('Genre')\n",
        "plt.tight_layout()\n",
        "plt.show()\n",
        "\n"
      ],
      "metadata": {
        "colab": {
          "base_uri": "https://localhost:8080/",
          "height": 507
        },
        "id": "0hOWDWm555Ge",
        "outputId": "0801dbd7-c3df-4378-83a4-a79800bef8dd"
      },
      "execution_count": 37,
      "outputs": [
        {
          "output_type": "display_data",
          "data": {
            "text/plain": [
              "<Figure size 1000x500 with 1 Axes>"
            ],
            "image/png": "[encoded data removed]"
          },
          "metadata": {}
        }
      ]
    },
    {
      "cell_type": "markdown",
      "source": [
        "Berikut merupakan top 10 genre terpopuler pada dataframe df_movie."
      ],
      "metadata": {
        "id": "m9Yb3hBkYUIg"
      }
    },
    {
      "cell_type": "markdown",
      "source": [
        "## Data Preparation"
      ],
      "metadata": {
        "id": "gjarKyZh2wcY"
      }
    },
    {
      "cell_type": "markdown",
      "source": [
        "### Content based filtering"
      ],
      "metadata": {
        "id": "cS9atkZS6ic0"
      }
    },
    {
      "cell_type": "code",
      "source": [
        "# 1. Subset sample 20000 film (karena keterbatasan RAM dalam megelola dataset agar model dapat dijalankan)\n",
        "df_movie_sample = df_movie.sample(n=20000, random_state=42).reset_index(drop=True)\n",
        "\n",
        "# 2. Preprocessing genre\n",
        "df_movie_sample['genres'] = df_movie_sample['genres'].str.replace('|', ' ')\n",
        "\n",
        "# 3. TF-IDF\n",
        "from sklearn.feature_extraction.text import TfidfVectorizer\n",
        "tfidf = TfidfVectorizer(stop_words='english')\n",
        "tfidf_matrix = tfidf.fit_transform(df_movie_sample['genres'])\n",
        "\n",
        "# 4. Build reverse index\n",
        "indices = pd.Series(df_movie_sample.index, index=df_movie_sample['title']).drop_duplicates()\n"
      ],
      "metadata": {
        "id": "pwRUQgE-6jr8"
      },
      "execution_count": 15,
      "outputs": []
    },
    {
      "cell_type": "markdown",
      "source": [
        "Pada tahap ini, dilakukan pembuatan subsample dengan variable baru df_movie_sample untuk mengambil 20.000 data sebagai sample dikarenakan terbatasnya RAM dalam pemrosesan data. Selanjutnya dilakukan preprocessing genre, untuk memisahkan genre pada kolom genre. Lalu dilakukan TF-IDF untuk mengubah data genre yang sudah dipisah menjadi representasi numerik."
      ],
      "metadata": {
        "id": "9QGw_frwYdOS"
      }
    },
    {
      "cell_type": "code",
      "source": [
        "# Menampilkan Subset sample, df_movie_sample\n",
        "df_movie_sample"
      ],
      "metadata": {
        "colab": {
          "base_uri": "https://localhost:8080/",
          "height": 419
        },
        "id": "NfHGZVBj5nWk",
        "outputId": "da5dd947-fae4-44b0-fedb-e76365427aad"
      },
      "execution_count": 16,
      "outputs": [
        {
          "output_type": "execute_result",
          "data": {
            "text/plain": [
              "       movieId                                        title  \\\n",
              "0         4990             Jimmy Neutron: Boy Genius (2001)   \n",
              "1       116698                         Dead Men Tell (1941)   \n",
              "2       125517                              The D.I. (1957)   \n",
              "3       196541                    Makar - Pathfinder (1984)   \n",
              "4       156511                         Feudin' Fools (1952)   \n",
              "...        ...                                          ...   \n",
              "19995   145885                    Les quatre vérités (1962)   \n",
              "19996     7316  Confessions of a Teenage Drama Queen (2004)   \n",
              "19997   189863                 The Silent Revolution (2018)   \n",
              "19998   106620                                Z.P.G. (1972)   \n",
              "19999      959                      Of Human Bondage (1934)   \n",
              "\n",
              "                                    genres  \\\n",
              "0      Adventure Animation Children Comedy   \n",
              "1      Comedy Crime Drama Mystery Thriller   \n",
              "2                                    Drama   \n",
              "3                       Adventure Children   \n",
              "4                                   Comedy   \n",
              "...                                    ...   \n",
              "19995                   (no genres listed)   \n",
              "19996                               Comedy   \n",
              "19997                                Drama   \n",
              "19998                      Sci-Fi Thriller   \n",
              "19999                                Drama   \n",
              "\n",
              "                                    genres_split  \n",
              "0       [Adventure, Animation, Children, Comedy]  \n",
              "1      [Comedy, Crime, Drama, Mystery, Thriller]  \n",
              "2                                        [Drama]  \n",
              "3                          [Adventure, Children]  \n",
              "4                                       [Comedy]  \n",
              "...                                          ...  \n",
              "19995                       [(no genres listed)]  \n",
              "19996                                   [Comedy]  \n",
              "19997                                    [Drama]  \n",
              "19998                         [Sci-Fi, Thriller]  \n",
              "19999                                    [Drama]  \n",
              "\n",
              "[20000 rows x 4 columns]"
            ],
            "text/html": [
              "\n",
              "  <div id=\"df-5eed4629-8bbf-4a0d-be40-5f64f10be6a6\" class=\"colab-df-container\">\n",
              "    <div>\n",
              "<style scoped>\n",
              "    .dataframe tbody tr th:only-of-type {\n",
              "        vertical-align: middle;\n",
              "    }\n",
              "\n",
              "    .dataframe tbody tr th {\n",
              "        vertical-align: top;\n",
              "    }\n",
              "\n",
              "    .dataframe thead th {\n",
              "        text-align: right;\n",
              "    }\n",
              "</style>\n",
              "<table border=\"1\" class=\"dataframe\">\n",
              "  <thead>\n",
              "    <tr style=\"text-align: right;\">\n",
              "      <th></th>\n",
              "      <th>movieId</th>\n",
              "      <th>title</th>\n",
              "      <th>genres</th>\n",
              "      <th>genres_split</th>\n",
              "    </tr>\n",
              "  </thead>\n",
              "  <tbody>\n",
              "    <tr>\n",
              "      <th>0</th>\n",
              "      <td>4990</td>\n",
              "      <td>Jimmy Neutron: Boy Genius (2001)</td>\n",
              "      <td>Adventure Animation Children Comedy</td>\n",
              "      <td>[Adventure, Animation, Children, Comedy]</td>\n",
              "    </tr>\n",
              "    <tr>\n",
              "      <th>1</th>\n",
              "      <td>116698</td>\n",
              "      <td>Dead Men Tell (1941)</td>\n",
              "      <td>Comedy Crime Drama Mystery Thriller</td>\n",
              "      <td>[Comedy, Crime, Drama, Mystery, Thriller]</td>\n",
              "    </tr>\n",
              "    <tr>\n",
              "      <th>2</th>\n",
              "      <td>125517</td>\n",
              "      <td>The D.I. (1957)</td>\n",
              "      <td>Drama</td>\n",
              "      <td>[Drama]</td>\n",
              "    </tr>\n",
              "    <tr>\n",
              "      <th>3</th>\n",
              "      <td>196541</td>\n",
              "      <td>Makar - Pathfinder (1984)</td>\n",
              "      <td>Adventure Children</td>\n",
              "      <td>[Adventure, Children]</td>\n",
              "    </tr>\n",
              "    <tr>\n",
              "      <th>4</th>\n",
              "      <td>156511</td>\n",
              "      <td>Feudin' Fools (1952)</td>\n",
              "      <td>Comedy</td>\n",
              "      <td>[Comedy]</td>\n",
              "    </tr>\n",
              "    <tr>\n",
              "      <th>...</th>\n",
              "      <td>...</td>\n",
              "      <td>...</td>\n",
              "      <td>...</td>\n",
              "      <td>...</td>\n",
              "    </tr>\n",
              "    <tr>\n",
              "      <th>19995</th>\n",
              "      <td>145885</td>\n",
              "      <td>Les quatre vérités (1962)</td>\n",
              "      <td>(no genres listed)</td>\n",
              "      <td>[(no genres listed)]</td>\n",
              "    </tr>\n",
              "    <tr>\n",
              "      <th>19996</th>\n",
              "      <td>7316</td>\n",
              "      <td>Confessions of a Teenage Drama Queen (2004)</td>\n",
              "      <td>Comedy</td>\n",
              "      <td>[Comedy]</td>\n",
              "    </tr>\n",
              "    <tr>\n",
              "      <th>19997</th>\n",
              "      <td>189863</td>\n",
              "      <td>The Silent Revolution (2018)</td>\n",
              "      <td>Drama</td>\n",
              "      <td>[Drama]</td>\n",
              "    </tr>\n",
              "    <tr>\n",
              "      <th>19998</th>\n",
              "      <td>106620</td>\n",
              "      <td>Z.P.G. (1972)</td>\n",
              "      <td>Sci-Fi Thriller</td>\n",
              "      <td>[Sci-Fi, Thriller]</td>\n",
              "    </tr>\n",
              "    <tr>\n",
              "      <th>19999</th>\n",
              "      <td>959</td>\n",
              "      <td>Of Human Bondage (1934)</td>\n",
              "      <td>Drama</td>\n",
              "      <td>[Drama]</td>\n",
              "    </tr>\n",
              "  </tbody>\n",
              "</table>\n",
              "<p>20000 rows × 4 columns</p>\n",
              "</div>\n",
              "    <div class=\"colab-df-buttons\">\n",
              "\n",
              "  <div class=\"colab-df-container\">\n",
              "    <button class=\"colab-df-convert\" onclick=\"convertToInteractive('df-5eed4629-8bbf-4a0d-be40-5f64f10be6a6')\"\n",
              "            title=\"Convert this dataframe to an interactive table.\"\n",
              "            style=\"display:none;\">\n",
              "\n",
              "  <svg xmlns=\"http://www.w3.org/2000/svg\" height=\"24px\" viewBox=\"0 -960 960 960\">\n",
              "    <path d=\"M120-120v-720h720v720H120Zm60-500h600v-160H180v160Zm220 220h160v-160H400v160Zm0 220h160v-160H400v160ZM180-400h160v-160H180v160Zm440 0h160v-160H620v160ZM180-180h160v-160H180v160Zm440 0h160v-160H620v160Z\"/>\n",
              "  </svg>\n",
              "    </button>\n",
              "\n",
              "  <style>\n",
              "    .colab-df-container {\n",
              "      display:flex;\n",
              "      gap: 12px;\n",
              "    }\n",
              "\n",
              "    .colab-df-convert {\n",
              "      background-color: #E8F0FE;\n",
              "      border: none;\n",
              "      border-radius: 50%;\n",
              "      cursor: pointer;\n",
              "      display: none;\n",
              "      fill: #1967D2;\n",
              "      height: 32px;\n",
              "      padding: 0 0 0 0;\n",
              "      width: 32px;\n",
              "    }\n",
              "\n",
              "    .colab-df-convert:hover {\n",
              "      background-color: #E2EBFA;\n",
              "      box-shadow: 0px 1px 2px rgba(60, 64, 67, 0.3), 0px 1px 3px 1px rgba(60, 64, 67, 0.15);\n",
              "      fill: #174EA6;\n",
              "    }\n",
              "\n",
              "    .colab-df-buttons div {\n",
              "      margin-bottom: 4px;\n",
              "    }\n",
              "\n",
              "    [theme=dark] .colab-df-convert {\n",
              "      background-color: #3B4455;\n",
              "      fill: #D2E3FC;\n",
              "    }\n",
              "\n",
              "    [theme=dark] .colab-df-convert:hover {\n",
              "      background-color: #434B5C;\n",
              "      box-shadow: 0px 1px 3px 1px rgba(0, 0, 0, 0.15);\n",
              "      filter: drop-shadow(0px 1px 2px rgba(0, 0, 0, 0.3));\n",
              "      fill: #FFFFFF;\n",
              "    }\n",
              "  </style>\n",
              "\n",
              "    <script>\n",
              "      const buttonEl =\n",
              "        document.querySelector('#df-5eed4629-8bbf-4a0d-be40-5f64f10be6a6 button.colab-df-convert');\n",
              "      buttonEl.style.display =\n",
              "        google.colab.kernel.accessAllowed ? 'block' : 'none';\n",
              "\n",
              "      async function convertToInteractive(key) {\n",
              "        const element = document.querySelector('#df-5eed4629-8bbf-4a0d-be40-5f64f10be6a6');\n",
              "        const dataTable =\n",
              "          await google.colab.kernel.invokeFunction('convertToInteractive',\n",
              "                                                    [key], {});\n",
              "        if (!dataTable) return;\n",
              "\n",
              "        const docLinkHtml = 'Like what you see? Visit the ' +\n",
              "          '<a target=\"_blank\" href=https://colab.research.google.com/notebooks/data_table.ipynb>data table notebook</a>'\n",
              "          + ' to learn more about interactive tables.';\n",
              "        element.innerHTML = '';\n",
              "        dataTable['output_type'] = 'display_data';\n",
              "        await google.colab.output.renderOutput(dataTable, element);\n",
              "        const docLink = document.createElement('div');\n",
              "        docLink.innerHTML = docLinkHtml;\n",
              "        element.appendChild(docLink);\n",
              "      }\n",
              "    </script>\n",
              "  </div>\n",
              "\n",
              "\n",
              "    <div id=\"df-a0319f61-bd91-4c00-b4c8-a3fe0edc4f72\">\n",
              "      <button class=\"colab-df-quickchart\" onclick=\"quickchart('df-a0319f61-bd91-4c00-b4c8-a3fe0edc4f72')\"\n",
              "                title=\"Suggest charts\"\n",
              "                style=\"display:none;\">\n",
              "\n",
              "<svg xmlns=\"http://www.w3.org/2000/svg\" height=\"24px\"viewBox=\"0 0 24 24\"\n",
              "     width=\"24px\">\n",
              "    <g>\n",
              "        <path d=\"M19 3H5c-1.1 0-2 .9-2 2v14c0 1.1.9 2 2 2h14c1.1 0 2-.9 2-2V5c0-1.1-.9-2-2-2zM9 17H7v-7h2v7zm4 0h-2V7h2v10zm4 0h-2v-4h2v4z\"/>\n",
              "    </g>\n",
              "</svg>\n",
              "      </button>\n",
              "\n",
              "<style>\n",
              "  .colab-df-quickchart {\n",
              "      --bg-color: #E8F0FE;\n",
              "      --fill-color: #1967D2;\n",
              "      --hover-bg-color: #E2EBFA;\n",
              "      --hover-fill-color: #174EA6;\n",
              "      --disabled-fill-color: #AAA;\n",
              "      --disabled-bg-color: #DDD;\n",
              "  }\n",
              "\n",
              "  [theme=dark] .colab-df-quickchart {\n",
              "      --bg-color: #3B4455;\n",
              "      --fill-color: #D2E3FC;\n",
              "      --hover-bg-color: #434B5C;\n",
              "      --hover-fill-color: #FFFFFF;\n",
              "      --disabled-bg-color: #3B4455;\n",
              "      --disabled-fill-color: #666;\n",
              "  }\n",
              "\n",
              "  .colab-df-quickchart {\n",
              "    background-color: var(--bg-color);\n",
              "    border: none;\n",
              "    border-radius: 50%;\n",
              "    cursor: pointer;\n",
              "    display: none;\n",
              "    fill: var(--fill-color);\n",
              "    height: 32px;\n",
              "    padding: 0;\n",
              "    width: 32px;\n",
              "  }\n",
              "\n",
              "  .colab-df-quickchart:hover {\n",
              "    background-color: var(--hover-bg-color);\n",
              "    box-shadow: 0 1px 2px rgba(60, 64, 67, 0.3), 0 1px 3px 1px rgba(60, 64, 67, 0.15);\n",
              "    fill: var(--button-hover-fill-color);\n",
              "  }\n",
              "\n",
              "  .colab-df-quickchart-complete:disabled,\n",
              "  .colab-df-quickchart-complete:disabled:hover {\n",
              "    background-color: var(--disabled-bg-color);\n",
              "    fill: var(--disabled-fill-color);\n",
              "    box-shadow: none;\n",
              "  }\n",
              "\n",
              "  .colab-df-spinner {\n",
              "    border: 2px solid var(--fill-color);\n",
              "    border-color: transparent;\n",
              "    border-bottom-color: var(--fill-color);\n",
              "    animation:\n",
              "      spin 1s steps(1) infinite;\n",
              "  }\n",
              "\n",
              "  @keyframes spin {\n",
              "    0% {\n",
              "      border-color: transparent;\n",
              "      border-bottom-color: var(--fill-color);\n",
              "      border-left-color: var(--fill-color);\n",
              "    }\n",
              "    20% {\n",
              "      border-color: transparent;\n",
              "      border-left-color: var(--fill-color);\n",
              "      border-top-color: var(--fill-color);\n",
              "    }\n",
              "    30% {\n",
              "      border-color: transparent;\n",
              "      border-left-color: var(--fill-color);\n",
              "      border-top-color: var(--fill-color);\n",
              "      border-right-color: var(--fill-color);\n",
              "    }\n",
              "    40% {\n",
              "      border-color: transparent;\n",
              "      border-right-color: var(--fill-color);\n",
              "      border-top-color: var(--fill-color);\n",
              "    }\n",
              "    60% {\n",
              "      border-color: transparent;\n",
              "      border-right-color: var(--fill-color);\n",
              "    }\n",
              "    80% {\n",
              "      border-color: transparent;\n",
              "      border-right-color: var(--fill-color);\n",
              "      border-bottom-color: var(--fill-color);\n",
              "    }\n",
              "    90% {\n",
              "      border-color: transparent;\n",
              "      border-bottom-color: var(--fill-color);\n",
              "    }\n",
              "  }\n",
              "</style>\n",
              "\n",
              "      <script>\n",
              "        async function quickchart(key) {\n",
              "          const quickchartButtonEl =\n",
              "            document.querySelector('#' + key + ' button');\n",
              "          quickchartButtonEl.disabled = true;  // To prevent multiple clicks.\n",
              "          quickchartButtonEl.classList.add('colab-df-spinner');\n",
              "          try {\n",
              "            const charts = await google.colab.kernel.invokeFunction(\n",
              "                'suggestCharts', [key], {});\n",
              "          } catch (error) {\n",
              "            console.error('Error during call to suggestCharts:', error);\n",
              "          }\n",
              "          quickchartButtonEl.classList.remove('colab-df-spinner');\n",
              "          quickchartButtonEl.classList.add('colab-df-quickchart-complete');\n",
              "        }\n",
              "        (() => {\n",
              "          let quickchartButtonEl =\n",
              "            document.querySelector('#df-a0319f61-bd91-4c00-b4c8-a3fe0edc4f72 button');\n",
              "          quickchartButtonEl.style.display =\n",
              "            google.colab.kernel.accessAllowed ? 'block' : 'none';\n",
              "        })();\n",
              "      </script>\n",
              "    </div>\n",
              "\n",
              "  <div id=\"id_971b8f60-f1a0-4ced-ba5b-c8415406904d\">\n",
              "    <style>\n",
              "      .colab-df-generate {\n",
              "        background-color: #E8F0FE;\n",
              "        border: none;\n",
              "        border-radius: 50%;\n",
              "        cursor: pointer;\n",
              "        display: none;\n",
              "        fill: #1967D2;\n",
              "        height: 32px;\n",
              "        padding: 0 0 0 0;\n",
              "        width: 32px;\n",
              "      }\n",
              "\n",
              "      .colab-df-generate:hover {\n",
              "        background-color: #E2EBFA;\n",
              "        box-shadow: 0px 1px 2px rgba(60, 64, 67, 0.3), 0px 1px 3px 1px rgba(60, 64, 67, 0.15);\n",
              "        fill: #174EA6;\n",
              "      }\n",
              "\n",
              "      [theme=dark] .colab-df-generate {\n",
              "        background-color: #3B4455;\n",
              "        fill: #D2E3FC;\n",
              "      }\n",
              "\n",
              "      [theme=dark] .colab-df-generate:hover {\n",
              "        background-color: #434B5C;\n",
              "        box-shadow: 0px 1px 3px 1px rgba(0, 0, 0, 0.15);\n",
              "        filter: drop-shadow(0px 1px 2px rgba(0, 0, 0, 0.3));\n",
              "        fill: #FFFFFF;\n",
              "      }\n",
              "    </style>\n",
              "    <button class=\"colab-df-generate\" onclick=\"generateWithVariable('df_movie_sample')\"\n",
              "            title=\"Generate code using this dataframe.\"\n",
              "            style=\"display:none;\">\n",
              "\n",
              "  <svg xmlns=\"http://www.w3.org/2000/svg\" height=\"24px\"viewBox=\"0 0 24 24\"\n",
              "       width=\"24px\">\n",
              "    <path d=\"M7,19H8.4L18.45,9,17,7.55,7,17.6ZM5,21V16.75L18.45,3.32a2,2,0,0,1,2.83,0l1.4,1.43a1.91,1.91,0,0,1,.58,1.4,1.91,1.91,0,0,1-.58,1.4L9.25,21ZM18.45,9,17,7.55Zm-12,3A5.31,5.31,0,0,0,4.9,8.1,5.31,5.31,0,0,0,1,6.5,5.31,5.31,0,0,0,4.9,4.9,5.31,5.31,0,0,0,6.5,1,5.31,5.31,0,0,0,8.1,4.9,5.31,5.31,0,0,0,12,6.5,5.46,5.46,0,0,0,6.5,12Z\"/>\n",
              "  </svg>\n",
              "    </button>\n",
              "    <script>\n",
              "      (() => {\n",
              "      const buttonEl =\n",
              "        document.querySelector('#id_971b8f60-f1a0-4ced-ba5b-c8415406904d button.colab-df-generate');\n",
              "      buttonEl.style.display =\n",
              "        google.colab.kernel.accessAllowed ? 'block' : 'none';\n",
              "\n",
              "      buttonEl.onclick = () => {\n",
              "        google.colab.notebook.generateWithVariable('df_movie_sample');\n",
              "      }\n",
              "      })();\n",
              "    </script>\n",
              "  </div>\n",
              "\n",
              "    </div>\n",
              "  </div>\n"
            ],
            "application/vnd.google.colaboratory.intrinsic+json": {
              "type": "dataframe",
              "variable_name": "df_movie_sample",
              "summary": "{\n  \"name\": \"df_movie_sample\",\n  \"rows\": 20000,\n  \"fields\": [\n    {\n      \"column\": \"movieId\",\n      \"properties\": {\n        \"dtype\": \"number\",\n        \"std\": 63578,\n        \"min\": 2,\n        \"max\": 209171,\n        \"num_unique_values\": 20000,\n        \"samples\": [\n          25999,\n          187137,\n          188587\n        ],\n        \"semantic_type\": \"\",\n        \"description\": \"\"\n      }\n    },\n    {\n      \"column\": \"title\",\n      \"properties\": {\n        \"dtype\": \"string\",\n        \"num_unique_values\": 19993,\n        \"samples\": [\n          \"Explosive City (2004)\",\n          \"Pumping Iron II: The Women (1985)\",\n          \"Red Lights (2012)\"\n        ],\n        \"semantic_type\": \"\",\n        \"description\": \"\"\n      }\n    },\n    {\n      \"column\": \"genres\",\n      \"properties\": {\n        \"dtype\": \"category\",\n        \"num_unique_values\": 986,\n        \"samples\": [\n          \"Animation Drama Musical\",\n          \"Action Crime Drama Sci-Fi Thriller\",\n          \"Action Adventure Crime Drama Mystery\"\n        ],\n        \"semantic_type\": \"\",\n        \"description\": \"\"\n      }\n    },\n    {\n      \"column\": \"genres_split\",\n      \"properties\": {\n        \"dtype\": \"object\",\n        \"semantic_type\": \"\",\n        \"description\": \"\"\n      }\n    }\n  ]\n}"
            }
          },
          "metadata": {},
          "execution_count": 16
        }
      ]
    },
    {
      "cell_type": "markdown",
      "source": [
        "Menampilkan 20.000 data sample yang digunakan"
      ],
      "metadata": {
        "id": "TSThmxBMZAaw"
      }
    },
    {
      "cell_type": "markdown",
      "source": [
        "### Colaborative Filtering"
      ],
      "metadata": {
        "id": "G5z5QJHS9qGv"
      }
    },
    {
      "cell_type": "code",
      "source": [
        "# Subset sample 20000 rating film (karena keterbatasan RAM dalam megelola dataset agar model dapat dijalankan)\n",
        "df_rating_sample = df_rating.sample(n=20000, random_state=42).copy()\n",
        "\n",
        "# cek distribusi rating\n",
        "df_rating_sample['rating'].hist(bins=20)"
      ],
      "metadata": {
        "colab": {
          "base_uri": "https://localhost:8080/",
          "height": 447
        },
        "id": "7lCXTRroOqlL",
        "outputId": "420b3097-4be5-4836-d5c0-2a1141f14a0d"
      },
      "execution_count": 17,
      "outputs": [
        {
          "output_type": "execute_result",
          "data": {
            "text/plain": [
              "<Axes: >"
            ]
          },
          "metadata": {},
          "execution_count": 17
        },
        {
          "output_type": "display_data",
          "data": {
            "text/plain": [
              "<Figure size 640x480 with 1 Axes>"
            ],
            "image/png": "[encoded data removed]"
          },
          "metadata": {}
        }
      ]
    },
    {
      "cell_type": "markdown",
      "source": [
        "Membuat data sample sebesar 20.000 data menjadi df_rating_sample."
      ],
      "metadata": {
        "id": "2g5W2zc0ZHZR"
      }
    },
    {
      "cell_type": "code",
      "source": [
        "# Mendapatkan list unik userId dan movieId\n",
        "user_ids = df_rating_sample['userId'].unique().tolist()\n",
        "movie_ids = df_rating_sample['movieId'].unique().tolist()\n",
        "\n",
        "# Mapping user dan movie ke index\n",
        "user2user_encoded = {x: i for i, x in enumerate(user_ids)}\n",
        "movie2movie_encoded = {x: i for i, x in enumerate(movie_ids)}\n",
        "userencoded2user = {i: x for x, i in user2user_encoded.items()}\n",
        "movieencoded2movie = {i: x for x, i in movie2movie_encoded.items()}\n",
        "\n",
        "# Tambahkan kolom hasil encoding ke dataframe\n",
        "df_rating_sample['user'] = df_rating_sample['userId'].map(user2user_encoded)\n",
        "df_rating_sample['movie'] = df_rating_sample['movieId'].map(movie2movie_encoded)\n",
        "\n",
        "# Jumlah user dan film\n",
        "num_users = len(user2user_encoded)\n",
        "num_movies = len(movie2movie_encoded)\n",
        "min_rating = df_rating_sample['rating'].min()\n",
        "max_rating = df_rating_sample['rating'].max()\n"
      ],
      "metadata": {
        "id": "_TgivCO7Ot4Y"
      },
      "execution_count": 18,
      "outputs": []
    },
    {
      "cell_type": "markdown",
      "source": [
        "Kode ini digunakan untuk melakukan encoding terhadap userId dan movieId dalam dataframe df_rating_sample, agar dapat digunakan dalam model machine learning, khususnya sistem rekomendasi. Pertama, kode mengambil daftar unik userId dan movieId, lalu membuat mapping dari ID asli ke indeks numerik menggunakan enumerate, sehingga tiap pengguna dan film diberi representasi angka yang unik. Mapping sebaliknya juga dibuat untuk keperluan decoding hasil model nantinya. Setelah itu, kolom baru user dan movie ditambahkan ke dataframe dengan hasil mapping tersebut. Terakhir, kode menghitung jumlah total user, jumlah film, serta nilai rating minimum dan maksimum sebagai informasi tambahan yang bisa digunakan dalam pemodelan."
      ],
      "metadata": {
        "id": "duCWnGy7Zi75"
      }
    },
    {
      "cell_type": "code",
      "source": [
        "x = df_rating_sample[['user', 'movie']].values\n",
        "y = df_rating_sample['rating'].values.astype(np.float32)\n",
        "\n",
        "# Train/Test split\n",
        "x_train, x_val, y_train, y_val = train_test_split(x, y, test_size=0.2, random_state=42)"
      ],
      "metadata": {
        "id": "g4NvkIksOysI"
      },
      "execution_count": 19,
      "outputs": []
    },
    {
      "cell_type": "markdown",
      "source": [
        "Kode ini mempersiapkan data untuk proses pelatihan model dengan mengambil fitur input berupa pasangan user dan movie dalam bentuk array x, serta nilai rating sebagai target y yang dikonversi ke tipe float32 untuk kompatibilitas dengan model machine learning. Selanjutnya, data dibagi menjadi data latih (x_train, y_train) dan data validasi (x_val, y_val) menggunakan fungsi train_test_split dari scikit-learn, dengan proporsi 80% untuk pelatihan dan 20% untuk validasi, serta random_state=42 digunakan untuk memastikan pembagian data yang konsisten (reproducible) setiap kali kode dijalankan."
      ],
      "metadata": {
        "id": "EV3pVzjVZo7l"
      }
    },
    {
      "cell_type": "markdown",
      "source": [
        "## Modelling"
      ],
      "metadata": {
        "id": "JrxKOeDq9hIF"
      }
    },
    {
      "cell_type": "markdown",
      "source": [
        "### Content based filtering"
      ],
      "metadata": {
        "id": "wxLKDFMT9mcF"
      }
    },
    {
      "cell_type": "code",
      "source": [
        "# Hitung cosine similarity antar film\n",
        "cosine_sim = linear_kernel(tfidf_matrix, tfidf_matrix)\n",
        "\n",
        "# Fungsi rekomendasi berdasarkan title\n",
        "def get_recommendations_content(title, top_n=10):\n",
        "    idx = indices[title]\n",
        "    sim_scores = list(enumerate(cosine_sim[idx]))\n",
        "    sim_scores = sorted(sim_scores, key=lambda x: x[1], reverse=True)[1:top_n+1]\n",
        "    movie_indices = [i[0] for i in sim_scores]\n",
        "    return df_movie_sample['title'].iloc[movie_indices].tolist()\n"
      ],
      "metadata": {
        "id": "ptjPg3aM8WIV"
      },
      "execution_count": 20,
      "outputs": []
    },
    {
      "cell_type": "markdown",
      "source": [
        "Kode ini digunakan untuk membuat sistem rekomendasi film berbasis konten menggunakan pendekatan cosine similarity. Pertama, dihitung kemiripan antar film menggunakan linear_kernel pada matriks TF-IDF (tfidf_matrix), yang merepresentasikan fitur teks dari deskripsi atau informasi film. Kemudian, fungsi get_recommendations_content menerima input berupa judul film dan akan mencari film lain yang paling mirip berdasarkan nilai cosine similarity. Fungsi ini bekerja dengan mengambil indeks film berdasarkan judul, lalu menghitung dan mengurutkan skor kemiripannya terhadap semua film lain, dan mengambil top_n film paling mirip (selain film itu sendiri). Hasil akhirnya adalah daftar judul film yang direkomendasikan berdasarkan kemiripan konten."
      ],
      "metadata": {
        "id": "Jzz6ndYaZvpD"
      }
    },
    {
      "cell_type": "code",
      "source": [
        "# Tes fungsi rekomendasi content based filtering\n",
        "movie_title = 'The Silent Revolution (2018)'\n",
        "recommendations_content = get_recommendations_content(movie_title)\n",
        "print(f\"Rekomendasi untuk '{movie_title}':\")\n",
        "for i, rec in enumerate(recommendations_content):\n",
        "    print(f\"{i+1}. {rec}\")"
      ],
      "metadata": {
        "colab": {
          "base_uri": "https://localhost:8080/"
        },
        "id": "8mLWBkP66ebv",
        "outputId": "74067bcc-82de-4c27-9ab4-22f93b78c482"
      },
      "execution_count": 21,
      "outputs": [
        {
          "output_type": "stream",
          "name": "stdout",
          "text": [
            "Rekomendasi untuk 'The Silent Revolution (2018)':\n",
            "1. Tony Takitani (2004)\n",
            "2. Hunger (2001)\n",
            "3. Yugotrip (2004)\n",
            "4. Afterimage (2017)\n",
            "5. Mourning for Anna (2010)\n",
            "6. The Tobacconist (2018)\n",
            "7. Snowland (2005)\n",
            "8. The Song of Sway Lake (2017)\n",
            "9. Sexual Dependency (Dependencia sexual) (2003)\n",
            "10. Arrhythmia (2017)\n"
          ]
        }
      ]
    },
    {
      "cell_type": "markdown",
      "source": [
        "Kode ini digunakan untuk menguji fungsi rekomendasi berbasis konten (get_recommendations_content) dengan memasukkan judul film \"The Silent Revolution (2018)\" sebagai input. Fungsi ini akan mengembalikan daftar film yang memiliki kemiripan konten tertinggi dengan film ini. Hasil rekomendasi kemudian dicetak ke layar dengan format yang terurut, menampilkan urutan dan judul dari film-film yang direkomendasikan. Tujuannya adalah untuk melihat apakah sistem rekomendasi dapat memberikan saran film yang relevan berdasarkan kemiripan isi."
      ],
      "metadata": {
        "id": "YLIX0RD3Z2MS"
      }
    },
    {
      "cell_type": "markdown",
      "source": [
        "### Collaborative Filtering"
      ],
      "metadata": {
        "id": "oiiHDlUTF0ut"
      }
    },
    {
      "cell_type": "markdown",
      "source": [
        "#### RecommenderNet"
      ],
      "metadata": {
        "id": "pG5ed5PJKk3Z"
      }
    },
    {
      "cell_type": "code",
      "source": [
        "# Model rekomendasi berbasis pembelajaran mendalam menggunakan embedding dan dot product\n",
        "class RecommenderNet(Model):\n",
        "    def __init__(self, num_users, num_movies, embedding_size=50, min_rating=0.5, max_rating=5.0):\n",
        "        super().__init__()\n",
        "        self.user_embedding = layers.Embedding(num_users, embedding_size, embeddings_initializer='he_normal')\n",
        "        self.movie_embedding = layers.Embedding(num_movies, embedding_size, embeddings_initializer='he_normal')\n",
        "        self.dot = layers.Dot(axes=1)\n",
        "        self.output_dense = layers.Dense(1, activation='sigmoid')\n",
        "        self.min_rating = min_rating\n",
        "        self.max_rating = max_rating\n",
        "\n",
        "    # Fungsi pemanggilan model\n",
        "    # Menerima input pasangan user dan movie (dalam bentuk ID), dan menghasilkan prediksi rating\n",
        "    def call(self, inputs):\n",
        "        user_vector = self.user_embedding(inputs[:, 0])\n",
        "        movie_vector = self.movie_embedding(inputs[:, 1])\n",
        "        dot_product = self.dot([user_vector, movie_vector])\n",
        "        scaled_output = self.output_dense(dot_product) * (self.max_rating - self.min_rating) + self.min_rating\n",
        "        return scaled_output\n"
      ],
      "metadata": {
        "id": "a41PmAA0F2Es"
      },
      "execution_count": 22,
      "outputs": []
    },
    {
      "cell_type": "markdown",
      "source": [
        "Kode ini mendefinisikan sebuah model rekomendasi berbasis pembelajaran mendalam menggunakan arsitektur RecommenderNet, yang merupakan subclass dari Model di TensorFlow. Model ini menggunakan pendekatan embedding untuk merepresentasikan pengguna dan film ke dalam vektor berdimensi tetap (embedding_size). Dalam metode __init__, dua layer embedding dibuat masing-masing untuk user dan movie, lalu dikombinasikan menggunakan operasi dot product untuk mengukur interaksi di antara keduanya. Hasil dot product kemudian diproses oleh layer Dense dengan aktivasi sigmoid dan diskalakan ke rentang rating sebenarnya, yaitu antara min_rating dan max_rating. Fungsi call menerima input pasangan user dan movie dalam bentuk ID numerik, mengambil representasi vektornya, menghitung kesamaan melalui dot product, dan mengembalikan prediksi rating yang telah diskalakan ke rentang yang sesuai. Model ini cocok digunakan untuk membangun sistem rekomendasi berbasis interaksi antara user dan item.\n",
        "\n"
      ],
      "metadata": {
        "id": "5FPc60cRaD-V"
      }
    },
    {
      "cell_type": "code",
      "source": [
        "# Inisialisasi model RecommenderNet\n",
        "model_recommendernet = RecommenderNet(num_users, num_movies, min_rating=min_rating, max_rating=max_rating)\n",
        "\n",
        "# Kompilasi model\n",
        "model_recommendernet.compile(\n",
        "    loss='mse',\n",
        "    optimizer=Adam(learning_rate=0.001)\n",
        ")\n",
        "\n",
        "# Melatih model\n",
        "history_rnet = model_recommendernet.fit(\n",
        "    x_train, y_train,\n",
        "    validation_data=(x_val, y_val),\n",
        "    batch_size=64,\n",
        "    epochs=10,\n",
        "    verbose=1\n",
        ")\n"
      ],
      "metadata": {
        "colab": {
          "base_uri": "https://localhost:8080/"
        },
        "id": "1esrr9o4_mTK",
        "outputId": "9ddcc122-b46d-4cfb-9d7d-cc9ca3f16deb"
      },
      "execution_count": 23,
      "outputs": [
        {
          "output_type": "stream",
          "name": "stdout",
          "text": [
            "Epoch 1/10\n",
            "\u001b[1m250/250\u001b[0m \u001b[32m━━━━━━━━━━━━━━━━━━━━\u001b[0m\u001b[37m\u001b[0m \u001b[1m5s\u001b[0m 13ms/step - loss: 1.6736 - val_loss: 1.4029\n",
            "Epoch 2/10\n",
            "\u001b[1m250/250\u001b[0m \u001b[32m━━━━━━━━━━━━━━━━━━━━\u001b[0m\u001b[37m\u001b[0m \u001b[1m3s\u001b[0m 13ms/step - loss: 1.3327 - val_loss: 1.2539\n",
            "Epoch 3/10\n",
            "\u001b[1m250/250\u001b[0m \u001b[32m━━━━━━━━━━━━━━━━━━━━\u001b[0m\u001b[37m\u001b[0m \u001b[1m4s\u001b[0m 10ms/step - loss: 1.0055 - val_loss: 1.2043\n",
            "Epoch 4/10\n",
            "\u001b[1m250/250\u001b[0m \u001b[32m━━━━━━━━━━━━━━━━━━━━\u001b[0m\u001b[37m\u001b[0m \u001b[1m5s\u001b[0m 11ms/step - loss: 0.5324 - val_loss: 1.2002\n",
            "Epoch 5/10\n",
            "\u001b[1m250/250\u001b[0m \u001b[32m━━━━━━━━━━━━━━━━━━━━\u001b[0m\u001b[37m\u001b[0m \u001b[1m4s\u001b[0m 16ms/step - loss: 0.2370 - val_loss: 1.2055\n",
            "Epoch 6/10\n",
            "\u001b[1m250/250\u001b[0m \u001b[32m━━━━━━━━━━━━━━━━━━━━\u001b[0m\u001b[37m\u001b[0m \u001b[1m4s\u001b[0m 12ms/step - loss: 0.1040 - val_loss: 1.2044\n",
            "Epoch 7/10\n",
            "\u001b[1m250/250\u001b[0m \u001b[32m━━━━━━━━━━━━━━━━━━━━\u001b[0m\u001b[37m\u001b[0m \u001b[1m5s\u001b[0m 10ms/step - loss: 0.0569 - val_loss: 1.2081\n",
            "Epoch 8/10\n",
            "\u001b[1m250/250\u001b[0m \u001b[32m━━━━━━━━━━━━━━━━━━━━\u001b[0m\u001b[37m\u001b[0m \u001b[1m3s\u001b[0m 12ms/step - loss: 0.0376 - val_loss: 1.2038\n",
            "Epoch 9/10\n",
            "\u001b[1m250/250\u001b[0m \u001b[32m━━━━━━━━━━━━━━━━━━━━\u001b[0m\u001b[37m\u001b[0m \u001b[1m3s\u001b[0m 14ms/step - loss: 0.0308 - val_loss: 1.2070\n",
            "Epoch 10/10\n",
            "\u001b[1m250/250\u001b[0m \u001b[32m━━━━━━━━━━━━━━━━━━━━\u001b[0m\u001b[37m\u001b[0m \u001b[1m3s\u001b[0m 10ms/step - loss: 0.0258 - val_loss: 1.2021\n"
          ]
        }
      ]
    },
    {
      "cell_type": "markdown",
      "source": [
        "Kode ini digunakan untuk inisialisasi, kompilasi, dan pelatihan model rekomendasi RecommenderNet yang telah didefinisikan sebelumnya. Pertama, objek model dibuat dengan memberikan jumlah total user dan movie, serta batas minimum dan maksimum rating. Model kemudian dikompilasi menggunakan fungsi loss mean squared error (mse) karena tugasnya adalah regresi (memprediksi nilai rating), dan menggunakan optimizer Adam dengan learning rate sebesar 0.001. Setelah itu, model dilatih menggunakan data latih (x_train, y_train) dan divalidasi dengan data validasi (x_val, y_val) selama 10 epoch dengan ukuran batch 64. Parameter verbose=1 memastikan bahwa proses pelatihan akan menampilkan output kemajuan pelatihan di konsol."
      ],
      "metadata": {
        "id": "Zp_-2YHoaKqL"
      }
    },
    {
      "cell_type": "markdown",
      "source": [
        "#### NCF"
      ],
      "metadata": {
        "id": "BoVC9owGPNOt"
      }
    },
    {
      "cell_type": "code",
      "source": [
        "class NCF(Model):\n",
        "    def __init__(self, num_users, num_movies, min_rating=0.5, max_rating=5.0, embedding_size=50):\n",
        "        super().__init__()\n",
        "\n",
        "        # Membuat layer embedding untuk user\n",
        "        self.user_embedding = layers.Embedding(num_users, embedding_size)\n",
        "\n",
        "        # Membuat layer embedding untuk movie\n",
        "        self.movie_embedding = layers.Embedding(num_movies, embedding_size)\n",
        "\n",
        "        # Menggabungkan vektor user dan movie\n",
        "        self.concat = layers.Concatenate()\n",
        "\n",
        "        # Fully connected layer pertama\n",
        "        self.dense1 = layers.Dense(128, activation='relu')\n",
        "\n",
        "        # Dropout untuk regularisasi\n",
        "        self.dropout1 = layers.Dropout(0.3)\n",
        "\n",
        "        # Fully connected layer kedua\n",
        "        self.dense2 = layers.Dense(64, activation='relu')\n",
        "\n",
        "        # Dropout kedua untuk mengurangi overfitting\n",
        "        self.dropout2 = layers.Dropout(0.3)\n",
        "\n",
        "        # Output layer dengan aktivasi sigmoid\n",
        "        self.output_dense = layers.Dense(1, activation='sigmoid')\n",
        "\n",
        "        # Nilai minimum dan maksimum rating\n",
        "        self.min_rating = min_rating\n",
        "        self.max_rating = max_rating\n",
        "\n",
        "    # Fungsi pemanggilan model\n",
        "    # Menerima input pasangan user dan movie (dalam bentuk ID), lalu menghasilkan prediksi rating\n",
        "\n",
        "    def call(self, inputs):\n",
        "        user_vector = self.user_embedding(inputs[:, 0])\n",
        "        movie_vector = self.movie_embedding(inputs[:, 1])\n",
        "        x = self.concat([user_vector, movie_vector])\n",
        "        x = self.dense1(x)\n",
        "        x = self.dropout1(x)\n",
        "        x = self.dense2(x)\n",
        "        x = self.dropout2(x)\n",
        "        output = self.output_dense(x) * (self.max_rating - self.min_rating) + self.min_rating\n",
        "        return output\n"
      ],
      "metadata": {
        "id": "z2OoJmgU-GAf"
      },
      "execution_count": 24,
      "outputs": []
    },
    {
      "cell_type": "markdown",
      "source": [
        "Kode ini mendefinisikan model rekomendasi Neural Collaborative Filtering (NCF) dengan pendekatan pembelajaran mendalam menggunakan subclass Model dari TensorFlow. Model ini memanfaatkan layer embedding untuk mengubah ID pengguna dan film menjadi representasi vektor berdimensi tetap (embedding_size). Vektor pengguna dan film kemudian digabungkan menggunakan Concatenate, lalu diproses melalui dua lapis fully connected layer (Dense) dengan aktivasi ReLU. Untuk mencegah overfitting, disisipkan dua layer Dropout setelah masing-masing Dense layer. Output dari jaringan dilewatkan ke layer Dense dengan aktivasi sigmoid, kemudian diskalakan ke rentang nilai rating sebenarnya (min_rating hingga max_rating). Fungsi call menerima input berupa pasangan ID pengguna dan film, lalu mengembalikannya sebagai prediksi rating. Model NCF ini menggabungkan kekuatan embedding dan jaringan saraf untuk mempelajari interaksi kompleks antara pengguna dan item."
      ],
      "metadata": {
        "id": "9QZpsottaSba"
      }
    },
    {
      "cell_type": "code",
      "source": [
        "# Inisialisasi model NCF\n",
        "# Parameter: jumlah user, jumlah movie, rating minimum & maksimum\n",
        "\n",
        "model_ncf = NCF(num_users, num_movies, min_rating=min_rating, max_rating=max_rating)\n",
        "model_ncf.compile(\n",
        "    loss='mse',\n",
        "    optimizer=Adam(learning_rate=0.001)\n",
        ")\n",
        "\n",
        "# Melatih model dengan data pelatihan\n",
        "history_ncf = model_ncf.fit(\n",
        "    x_train, y_train,\n",
        "    validation_data=(x_val, y_val),\n",
        "    batch_size=64,\n",
        "    epochs=10,\n",
        "    verbose=1\n",
        ")\n"
      ],
      "metadata": {
        "colab": {
          "base_uri": "https://localhost:8080/"
        },
        "id": "M-BpvAtD_wW0",
        "outputId": "379982ae-51a8-425d-d523-1bfbe9c05fcb"
      },
      "execution_count": 25,
      "outputs": [
        {
          "output_type": "stream",
          "name": "stdout",
          "text": [
            "Epoch 1/10\n",
            "\u001b[1m250/250\u001b[0m \u001b[32m━━━━━━━━━━━━━━━━━━━━\u001b[0m\u001b[37m\u001b[0m \u001b[1m5s\u001b[0m 12ms/step - loss: 1.2198 - val_loss: 1.0724\n",
            "Epoch 2/10\n",
            "\u001b[1m250/250\u001b[0m \u001b[32m━━━━━━━━━━━━━━━━━━━━\u001b[0m\u001b[37m\u001b[0m \u001b[1m5s\u001b[0m 11ms/step - loss: 0.6734 - val_loss: 1.1705\n",
            "Epoch 3/10\n",
            "\u001b[1m250/250\u001b[0m \u001b[32m━━━━━━━━━━━━━━━━━━━━\u001b[0m\u001b[37m\u001b[0m \u001b[1m5s\u001b[0m 10ms/step - loss: 0.3309 - val_loss: 1.1717\n",
            "Epoch 4/10\n",
            "\u001b[1m250/250\u001b[0m \u001b[32m━━━━━━━━━━━━━━━━━━━━\u001b[0m\u001b[37m\u001b[0m \u001b[1m3s\u001b[0m 11ms/step - loss: 0.1681 - val_loss: 1.1720\n",
            "Epoch 5/10\n",
            "\u001b[1m250/250\u001b[0m \u001b[32m━━━━━━━━━━━━━━━━━━━━\u001b[0m\u001b[37m\u001b[0m \u001b[1m5s\u001b[0m 10ms/step - loss: 0.1108 - val_loss: 1.1993\n",
            "Epoch 6/10\n",
            "\u001b[1m250/250\u001b[0m \u001b[32m━━━━━━━━━━━━━━━━━━━━\u001b[0m\u001b[37m\u001b[0m \u001b[1m3s\u001b[0m 11ms/step - loss: 0.0766 - val_loss: 1.2143\n",
            "Epoch 7/10\n",
            "\u001b[1m250/250\u001b[0m \u001b[32m━━━━━━━━━━━━━━━━━━━━\u001b[0m\u001b[37m\u001b[0m \u001b[1m3s\u001b[0m 10ms/step - loss: 0.0553 - val_loss: 1.2047\n",
            "Epoch 8/10\n",
            "\u001b[1m250/250\u001b[0m \u001b[32m━━━━━━━━━━━━━━━━━━━━\u001b[0m\u001b[37m\u001b[0m \u001b[1m7s\u001b[0m 18ms/step - loss: 0.0416 - val_loss: 1.2108\n",
            "Epoch 9/10\n",
            "\u001b[1m250/250\u001b[0m \u001b[32m━━━━━━━━━━━━━━━━━━━━\u001b[0m\u001b[37m\u001b[0m \u001b[1m3s\u001b[0m 10ms/step - loss: 0.0341 - val_loss: 1.2127\n",
            "Epoch 10/10\n",
            "\u001b[1m250/250\u001b[0m \u001b[32m━━━━━━━━━━━━━━━━━━━━\u001b[0m\u001b[37m\u001b[0m \u001b[1m9s\u001b[0m 26ms/step - loss: 0.0307 - val_loss: 1.2222\n"
          ]
        }
      ]
    },
    {
      "cell_type": "markdown",
      "source": [
        "Kode ini menginisialisasi dan melatih model Neural Collaborative Filtering (NCF) yang telah didefinisikan sebelumnya. Model NCF dibuat dengan parameter jumlah pengguna dan film, serta batas minimum dan maksimum rating. Setelah itu, model dikompilasi menggunakan fungsi loss mean squared error (karena prediksi berupa nilai rating kontinu) dan optimizer Adam dengan learning rate 0.001. Proses pelatihan dilakukan dengan memanfaatkan data pelatihan (x_train, y_train) dan data validasi (x_val, y_val), selama 10 epoch dengan batch size 64. Parameter verbose=1 memastikan tampilan progres pelatihan muncul di layar. Tujuannya adalah agar model dapat mempelajari hubungan kompleks antara pengguna dan film untuk menghasilkan prediksi rating yang akurat."
      ],
      "metadata": {
        "id": "B1UFvCaLaaZ1"
      }
    },
    {
      "cell_type": "markdown",
      "source": [
        "## Top N Recommendation RecommenderNet & NFC"
      ],
      "metadata": {
        "id": "NMIwoiCb-ZIS"
      }
    },
    {
      "cell_type": "code",
      "source": [
        "def get_top_n_recommendations(model, user_id, n=10, model_type='recommendernet'):\n",
        "    # Ambil movie yang belum pernah diberi rating oleh user\n",
        "    user_encoded = user2user_encoded[user_id]\n",
        "    watched_movie_ids = df_rating_sample[df_rating_sample['userId'] == user_id]['movieId'].tolist()\n",
        "    watched_movie_encoded = [movie2movie_encoded[m] for m in watched_movie_ids if m in movie2movie_encoded]\n",
        "    all_movies = set(range(num_movies))\n",
        "    movies_to_predict = list(all_movies - set(watched_movie_encoded))\n",
        "\n",
        "    user_array = np.full(len(movies_to_predict), user_encoded)\n",
        "    movie_array = np.array(movies_to_predict)\n",
        "\n",
        "    if model_type == 'recommendernet':\n",
        "        preds = model.predict(np.stack([user_array, movie_array], axis=1)).flatten()\n",
        "    elif model_type == 'ncf':\n",
        "        preds = model.predict([user_array, movie_array]).flatten()\n",
        "\n",
        "    top_indices = preds.argsort()[-n:][::-1]\n",
        "    top_movie_encoded = movie_array[top_indices]\n",
        "    top_movie_ids = [movieencoded2movie[i] for i in top_movie_encoded]\n",
        "    top_titles = df_movie[df_movie['movieId'].isin(top_movie_ids)]['title'].values\n",
        "    return top_titles\n"
      ],
      "metadata": {
        "id": "wdpdlp5t-cDA"
      },
      "execution_count": 26,
      "outputs": []
    },
    {
      "cell_type": "markdown",
      "source": [
        "Pada bagian ini, fungsi get_top_n_recommendations digunakan untuk menghasilkan rekomendasi film terbaik untuk seorang pengguna berdasarkan model pembelajaran mesin yang telah dilatih. Fungsi ini menerima input berupa model, user_id, jumlah rekomendasi n, dan jenis model ('recommendernet' atau 'ncf'). Pertama, fungsi mengonversi user_id ke format encoded dan mengambil daftar film yang sudah pernah ditonton oleh pengguna tersebut. Lalu, ia menyusun daftar film yang belum ditonton untuk diprediksi. Selanjutnya, pasangan input user dan movie dikonversi menjadi array dan digunakan sebagai input ke model. Model akan menghasilkan prediksi rating untuk setiap film yang belum ditonton, lalu film-film tersebut diurutkan berdasarkan nilai prediksi tertinggi. Akhirnya, fungsi mengembalikan daftar judul film terbaik yang direkomendasikan untuk pengguna tersebut.\n",
        "\n"
      ],
      "metadata": {
        "id": "QveqWgkXagJZ"
      }
    },
    {
      "cell_type": "markdown",
      "source": [
        "## Evaluation"
      ],
      "metadata": {
        "id": "pasbVromGfrs"
      }
    },
    {
      "cell_type": "code",
      "source": [
        "# --- Prediksi ---\n",
        "y_pred_rec = model_recommendernet.predict(x_val).flatten()\n",
        "y_pred_ncf = model_ncf.predict(x_val).flatten()\n",
        "\n",
        "# --- Hitung RMSE ---\n",
        "rmse_rec = sqrt(mean_squared_error(y_val, y_pred_rec))\n",
        "rmse_ncf = sqrt(mean_squared_error(y_val, y_pred_ncf))\n",
        "\n",
        "print(f\"RMSE RecommenderNet: {rmse_rec:.4f}\")\n",
        "print(f\"RMSE NCF: {rmse_ncf:.4f}\")\n",
        "\n",
        "# --- Visualisasi RMSE ---\n",
        "plt.figure(figsize=(6, 4))\n",
        "plt.bar(['RecommenderNet', 'NCF'], [rmse_rec, rmse_ncf], color=['skyblue', 'orange'])\n",
        "plt.ylabel('RMSE')\n",
        "plt.title('Perbandingan RMSE Model')\n",
        "plt.ylim(0, max(rmse_rec, rmse_ncf) + 0.5)\n",
        "plt.grid(axis='y', linestyle='--', alpha=0.7)\n",
        "plt.show()\n"
      ],
      "metadata": {
        "colab": {
          "base_uri": "https://localhost:8080/",
          "height": 459
        },
        "id": "EVGUYLo7-iAE",
        "outputId": "e86396ee-1fed-4cee-bb3f-6ecb582b41ed"
      },
      "execution_count": 27,
      "outputs": [
        {
          "output_type": "stream",
          "name": "stdout",
          "text": [
            "\u001b[1m125/125\u001b[0m \u001b[32m━━━━━━━━━━━━━━━━━━━━\u001b[0m\u001b[37m\u001b[0m \u001b[1m0s\u001b[0m 1ms/step\n",
            "\u001b[1m125/125\u001b[0m \u001b[32m━━━━━━━━━━━━━━━━━━━━\u001b[0m\u001b[37m\u001b[0m \u001b[1m0s\u001b[0m 1ms/step\n",
            "RMSE RecommenderNet: 1.0964\n",
            "RMSE NCF: 1.1055\n"
          ]
        },
        {
          "output_type": "display_data",
          "data": {
            "text/plain": [
              "<Figure size 600x400 with 1 Axes>"
            ],
            "image/png": "[encoded data removed]"
          },
          "metadata": {}
        }
      ]
    },
    {
      "cell_type": "markdown",
      "source": [
        "Berdasarkan hasil evaluasi menggunakan metrik RMSE (Root Mean Squared Error), model RecommenderNet menunjukkan performa yang sedikit lebih baik dibandingkan dengan model NCF . Selisih ini mengindikasikan bahwa prediksi rating dari RecommenderNet lebih mendekati nilai aktual secara rata-rata."
      ],
      "metadata": {
        "id": "-5KKRXbObjmB"
      }
    },
    {
      "cell_type": "code",
      "source": [
        "# --- Plot Training & Validation Loss ---\n",
        "plt.figure(figsize=(10, 6))\n",
        "\n",
        "# RecommenderNet\n",
        "plt.plot(history_rnet.history['loss'], label='RecommenderNet Loss', color='skyblue')\n",
        "plt.plot(history_rnet.history['val_loss'], label='RecommenderNet Val Loss', color='deepskyblue', linestyle='--')\n",
        "\n",
        "# NCF\n",
        "plt.plot(history_ncf.history['loss'], label='NCF Loss', color='orange')\n",
        "plt.plot(history_ncf.history['val_loss'], label='NCF Val Loss', color='darkorange', linestyle='--')\n",
        "\n",
        "plt.title('Training & Validation Loss per Epoch')\n",
        "plt.xlabel('Epoch')\n",
        "plt.ylabel('Loss (MSE)')\n",
        "plt.legend()\n",
        "plt.grid(True, linestyle='--', alpha=0.6)\n",
        "plt.tight_layout()\n",
        "plt.show()\n"
      ],
      "metadata": {
        "colab": {
          "base_uri": "https://localhost:8080/",
          "height": 607
        },
        "id": "SKduRhH0Chlr",
        "outputId": "c96c1d1a-6799-41d5-ce0c-5023e31faf70"
      },
      "execution_count": 28,
      "outputs": [
        {
          "output_type": "display_data",
          "data": {
            "text/plain": [
              "<Figure size 1000x600 with 1 Axes>"
            ],
            "image/png": "[encoded data removed]"
          },
          "metadata": {}
        }
      ]
    },
    {
      "cell_type": "markdown",
      "source": [
        "Berdasarkan visualisasi, RecommenderNet memiliki nilai RMSE lebih rendah dibandingkan NCF , grafik validasi menunjukkan bahwa model ini mulai overfit terhadap data pelatihan setelah beberapa epoch. Sebaliknya, NCF menunjukkan performa yang lebih stabil dan konsisten di data validasi."
      ],
      "metadata": {
        "id": "-9Iqd2PpbmUJ"
      }
    },
    {
      "cell_type": "code",
      "source": [
        "# RecommenderNet MSE\n",
        "final_rnet_train_loss = history_rnet.history['loss'][-1]\n",
        "final_rnet_val_loss = history_rnet.history['val_loss'][-1]\n",
        "\n",
        "# NCF MSE\n",
        "final_ncf_train_loss = history_ncf.history['loss'][-1]\n",
        "final_ncf_val_loss = history_ncf.history['val_loss'][-1]\n",
        "\n",
        "print(f\"RecommenderNet - Final Training MSE: {final_rnet_train_loss:.4f}\")\n",
        "print(f\"RecommenderNet - Final Validation MSE: {final_rnet_val_loss:.4f}\")\n",
        "print(f\"NCF - Final Training MSE: {final_ncf_train_loss:.4f}\")\n",
        "print(f\"NCF - Final Validation MSE: {final_ncf_val_loss:.4f}\")\n"
      ],
      "metadata": {
        "colab": {
          "base_uri": "https://localhost:8080/"
        },
        "id": "sWYBCheGLr-Q",
        "outputId": "02ecc1ea-e182-457a-e9ce-5febeff28c5d"
      },
      "execution_count": 36,
      "outputs": [
        {
          "output_type": "stream",
          "name": "stdout",
          "text": [
            "RecommenderNet - Final Training MSE: 0.0261\n",
            "RecommenderNet - Final Validation MSE: 1.2021\n",
            "NCF - Final Training MSE: 0.0290\n",
            "NCF - Final Validation MSE: 1.2222\n"
          ]
        }
      ]
    },
    {
      "cell_type": "code",
      "source": [
        "# Menghitung Mean Absolute Error (MAE) untuk model RecommenderNet dan NCF\n",
        "\n",
        "mae_rec = mean_absolute_error(y_val, y_pred_rec)\n",
        "mae_ncf = mean_absolute_error(y_val, y_pred_ncf)\n",
        "\n",
        "print(f\"MAE RecommenderNet: {mae_rec:.4f}\")\n",
        "print(f\"MAE NCF: {mae_ncf:.4f}\")\n"
      ],
      "metadata": {
        "colab": {
          "base_uri": "https://localhost:8080/"
        },
        "id": "TUhro93gA6as",
        "outputId": "f2dffffc-fd29-489a-f263-556b0ef36206"
      },
      "execution_count": 29,
      "outputs": [
        {
          "output_type": "stream",
          "name": "stdout",
          "text": [
            "MAE RecommenderNet: 0.8942\n",
            "MAE NCF: 0.8639\n"
          ]
        }
      ]
    },
    {
      "cell_type": "markdown",
      "source": [
        "Meskipun RecommenderNet unggul pada metrik RMSE, model NCF menunjukkan keunggulan pada metrik MAE, yang mengindikasikan bahwa prediksi NCF secara umum lebih stabil dan lebih konsisten terhadap nilai rating aktual, meskipun mungkin kurang presisi terhadap nilai-nilai ekstrem."
      ],
      "metadata": {
        "id": "dq4ULrbJbsCO"
      }
    },
    {
      "cell_type": "code",
      "source": [
        "def get_top_n_recommendations(model, user_id_encoded, model_type='recommendernet', top_n=10):\n",
        "    # Buat DataFrame berisi semua film\n",
        "    user_movie_df = pd.DataFrame({'movie': list(movie2movie_encoded.values())})\n",
        "    user_movie_df['user'] = user_id_encoded\n",
        "    # Prediksi rating\n",
        "    predictions = model.predict(user_movie_df[['user', 'movie']].values, verbose=0).flatten()\n",
        "    user_movie_df['predicted_rating'] = predictions\n",
        "\n",
        "    # Ambil top N prediksi tertinggi\n",
        "    top_movies = user_movie_df.sort_values('predicted_rating', ascending=False).head(top_n)\n",
        "\n",
        "    # Decode movie index ke movieId\n",
        "    movie_id_map = {v: k for k, v in movie2movie_encoded.items()}\n",
        "    top_movie_ids = top_movies['movie'].map(movie_id_map)\n",
        "\n",
        "    # Ambil judul dari df_movie_sample\n",
        "    top_titles = df_movie[df_movie['movieId'].isin(top_movie_ids)]['title'].values\n",
        "\n",
        "    if len(top_titles) == 0:\n",
        "      print(\"⚠️ Tidak ditemukan judul yang cocok. Coba periksa apakah df_movie_sample punya movieId yang sesuai.\")\n",
        "\n",
        "\n",
        "    return top_titles\n",
        "\n",
        "\n"
      ],
      "metadata": {
        "id": "PyIiTUPzBLfX"
      },
      "execution_count": 30,
      "outputs": []
    },
    {
      "cell_type": "markdown",
      "source": [
        "Fungsi get_top_n_recommendations ini bertujuan untuk memberikan rekomendasi film terbaik kepada pengguna berdasarkan model yang sudah dilatih. Fungsi menerima input berupa model, user_id yang sudah dalam bentuk encoded, tipe model, dan jumlah rekomendasi top_n. Pertama, fungsi membuat DataFrame yang berisi semua film dengan kolom user diisi oleh user_id_encoded. Kemudian, model digunakan untuk memprediksi rating dari semua pasangan user-film tersebut, dan hasil prediksi disimpan dalam kolom predicted_rating. Selanjutnya, film-film diurutkan berdasarkan prediksi rating tertinggi dan diambil sebanyak top_n. Indeks film yang direkomendasikan kemudian di-decode kembali menjadi movieId asli, lalu dicocokkan dengan data judul film dalam df_movie untuk diambil judulnya. Jika tidak ada judul yang cocok ditemukan, fungsi akan memberikan peringatan. Fungsi ini memudahkan pengambilan rekomendasi film terbaik secara efisien dengan menggunakan prediksi model."
      ],
      "metadata": {
        "id": "z1Z0XvdPb3wM"
      }
    },
    {
      "cell_type": "code",
      "source": [
        "# Ambil user  dari encoding\n",
        "example_user_encoded = 2\n",
        "\n",
        "top_10_recommendations = get_top_n_recommendations(model_recommendernet, example_user_encoded, model_type='recommendernet', top_n=10)\n",
        "\n",
        "print(\"Top 10 rekomendasi film untuk user:\", top_10_recommendations)"
      ],
      "metadata": {
        "colab": {
          "base_uri": "https://localhost:8080/"
        },
        "id": "ZWEvNjDaEfTg",
        "outputId": "6fcc039b-2dde-4411-83fa-fb16f03634a9"
      },
      "execution_count": 31,
      "outputs": [
        {
          "output_type": "stream",
          "name": "stdout",
          "text": [
            "Top 10 rekomendasi film untuk user: ['Piano, The (1993)' 'Son in Law (1993)'\n",
            " 'Monty Python and the Holy Grail (1975)'\n",
            " 'Seventh Seal, The (Sjunde inseglet, Det) (1957)'\n",
            " 'Elephant Man, The (1980)' 'Unbreakable (2000)' 'Notebook, The (2004)'\n",
            " 'Wedding Crashers (2005)' 'Guardians of the Galaxy (2014)'\n",
            " 'John Wick: Chapter Two (2017)']\n"
          ]
        }
      ]
    },
    {
      "cell_type": "markdown",
      "source": [
        "Ini merupakan hasil top 10 rekomendasi film dari user 2 menggunakan RecommenderNet."
      ],
      "metadata": {
        "id": "1cFyfgw7b7Wu"
      }
    },
    {
      "cell_type": "code",
      "source": [
        "# Ambil user pertama dari encoding\n",
        "example_user_encoded = 2\n",
        "\n",
        "top_10_recommendations = get_top_n_recommendations(model_ncf, example_user_encoded, model_type='ncf', top_n=10)\n",
        "\n",
        "print(\"Top 10 rekomendasi film untuk user:\", top_10_recommendations)\n"
      ],
      "metadata": {
        "colab": {
          "base_uri": "https://localhost:8080/"
        },
        "id": "hj4iBubhEtiN",
        "outputId": "e25ffcb1-a319-46e7-c40f-d3be21bde211"
      },
      "execution_count": 32,
      "outputs": [
        {
          "output_type": "stream",
          "name": "stdout",
          "text": [
            "Top 10 rekomendasi film untuk user: ['Surviving the Game (1994)' 'Third Man, The (1949)' 'Shine (1996)'\n",
            " 'Gods and Monsters (1998)' 'American Flyers (1985)'\n",
            " 'Of Mice and Men (1992)' 'Hellraiser (1987)' 'Death Race (2008)'\n",
            " 'Keeper of Lost Causes, The (Kvinden i buret) (2013)' 'Leviathan (2014)']\n"
          ]
        }
      ]
    },
    {
      "cell_type": "markdown",
      "source": [
        "Ini merupakan hasil top 10 rekomendasi film dari user 2 menggunakan NCF."
      ],
      "metadata": {
        "id": "R42We8nncCgH"
      }
    },
    {
      "cell_type": "markdown",
      "source": [
        "## Conclusion"
      ],
      "metadata": {
        "id": "tjPZtZAAcIXb"
      }
    },
    {
      "cell_type": "markdown",
      "source": [
        " Dalam proyek pengembangan sistem rekomendasi film ini, saya mengimplementasikan dua pendekatan utama, yaitu Content-Based Filtering dan Collaborative Filtering. Pada pendekatan Collaborative Filtering, saya menguji dua arsitektur model deep learning, yakni RecommenderNet dan Neural Collaborative Filtering (NCF).\n",
        "\n",
        "Hasil evaluasi menunjukkan bahwa kedua model memiliki performa yang cukup kompetitif, dengan nilai RMSE sebesar 1.0964 untuk RecommenderNet dan 1.1055 untuk NCF. Meskipun RecommenderNet sedikit lebih unggul dalam hal RMSE dan MSE, model NCF menunjukkan performa yang lebih stabil dan konsisten, terutama dalam proses pelatihan dan validasi.\n",
        "\n",
        "Berdasarkan evaluasi tersebut, saya memilih NCF sebagai model akhir yang digunakan dalam sistem rekomendasi ini karena kestabilannya dalam proses pelatihan dan kemampuannya dalam menghasilkan prediksi yang lebih merata, meskipun memiliki RMSE sedikit lebih tinggi dibandingkan RecommenderNet. Selain itu, nilai MAE yang lebih rendah pada NCF menunjukkan bahwa prediksi model ini secara umum lebih mendekati nilai rating sesungguhnya.\n",
        "\n",
        "Pendekatan content-based digunakan sebagai pelengkap untuk memberikan rekomendasi yang lebih personal terutama ketika data interaksi pengguna masih terbatas (cold start problem).\n",
        "\n",
        ""
      ],
      "metadata": {
        "id": "n4_jQGdjcOz7"
      }
    }
  ]
}